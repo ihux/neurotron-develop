{
 "cells": [
  {
   "cell_type": "code",
   "execution_count": 1,
   "id": "af5af936-2302-4152-8a63-d90f01221371",
   "metadata": {},
   "outputs": [],
   "source": [
    "# predict\n",
    "\n",
    "from neurotron import Cluster, Matrix, Token, Record, Monitor, Toy, isa, follow\n",
    "import neurotron.math as nm\n"
   ]
  },
  {
   "cell_type": "code",
   "execution_count": 2,
   "id": "cfe0c452-286a-4cb9-a99c-6fd25253a4c9",
   "metadata": {},
   "outputs": [],
   "source": [
    "class Cells(Cluster):\n",
    "    def __init__(self,shape=(2,5,2,3),token=None):\n",
    "        nm.seed(1)\n",
    "        cells = super().__init__(*shape,verbose=1)\n",
    "        self.token = token\n",
    "        m,n,d,s = shape\n",
    "        f = [0,0,0] if token is None else token['.']\n",
    "        self.y = nm.row(nm.zeros(1,m*n),f)\n",
    "        self.record = Record(self)\n",
    "\n",
    "    def process(self,seq):\n",
    "        m,n,d,s = self.shape\n",
    "        seq = [seq] if isa(seq,str) else seq\n",
    "        prediction = [seq[0],'->']\n",
    "        for word in seq:\n",
    "            mon = Monitor(m,n);\n",
    "            self.y = nm.row(nm.zeros(1,m*n),token[word])\n",
    "            self.y = self.step(mon,self.y,word)\n",
    "            output,predict = self.decode()\n",
    "            mon.xlabel((n-1)/2,output+' -> '+predict)\n",
    "            prediction.append(predict)\n",
    "        return prediction\n",
    "\n",
    "    def predictive(self,list):\n",
    "        for k in list:\n",
    "            cells.X[k] = 1;\n",
    "            cells._predict.I[k] = Matrix([[.1,-.1,.1,-.1,.1],[0,0,0,0,0]])\n",
    "\n",
    "    def map(self):\n",
    "        self._predict.map()\n",
    "        \n",
    "    def __str__(self):\n",
    "        self.record.clear();  \n",
    "        self.record(self)\n",
    "        return self.record.pattern()\n",
    "\n",
    "    def __repr__(self):\n",
    "        return self.__str__()\n",
    "\n"
   ]
  },
  {
   "cell_type": "code",
   "execution_count": 3,
   "id": "22be08dd-b48e-4b79-8b58-329f44ab7705",
   "metadata": {},
   "outputs": [],
   "source": [
    "#=========================================================================\n",
    "# setup network\n",
    "#=========================================================================\n",
    "\n",
    "token = Token({'Mary': [1,0,0,0,0,0,0,1,1],\n",
    "               'John': [0,1,0,0,0,0,0,1,1],\n",
    "               'Lisa': [1,0,0,0,0,0,1,1,0],\n",
    "               'Andy': [0,1,0,0,0,0,1,1,0],\n",
    "               'likes':[0,0,1,0,0,0,0,1,1],\n",
    "               'to':   [0,0,0,1,0,0,0,1,1],\n",
    "               'sing': [0,0,0,0,1,0,0,1,1],\n",
    "               'dance':[0,0,0,0,0,1,0,1,1],\n",
    "               'hike': [0,0,0,0,1,0,1,1,0],\n",
    "               'climb':[0,0,0,0,1,0,1,0,1],\n",
    "               '.':    [0,0,0,0,0,0,1,1,1],\n",
    "              })\n",
    "    \n",
    "def setup(token):\n",
    "    shape = (2,9,8,3);  \n",
    "    cells = Cells(shape,token)\n",
    "    cells._predict.clear()\n",
    "\n",
    "    try:\n",
    "        cells.connect([0,14,16],[4,14,16])  # Mary -> likes\n",
    "        cells.connect([4,14,16],[6,14,16])  # likes -> to\n",
    "        cells.connect([6,14,16],[8,14,16])  # to -> sing\n",
    "        cells.connect([8,14,16],[12,14,16]) # sing -> .\n",
    "\n",
    "        cells.connect([2,14,16],[5,15,17])  # John -> likes  \n",
    "        cells.connect([5,15,17],[7,15,17])  # likes -> to\n",
    "        cells.connect([7,15,17],[10,15,17]) # to(7,15,17) -> dance(10,15,17)\n",
    "        cells.connect([10,15,17],[13,15,17])# dance -> .\n",
    "\n",
    "        cells.connect([0,12,14],[4,14,17])  # Lisa -> likes\n",
    "        cells.connect([4,14,17],[6,15,16])  # likes -> to\n",
    "        cells.connect([6,15,16],[8,12,14])  # to -> hike\n",
    "        cells.connect([8,12,14],[13,15,17]) # hike -> .\n",
    "\n",
    "        cells.connect([2,12,14],[5,14,17])  # Andy -> likes\n",
    "        cells.connect([5,14,17],[7,15,16])  # likes -> to\n",
    "        cells.connect([7,15,16],[9,12,16])  # to -> climb\n",
    "        cells.connect([9,12,16],[13,15,17]) # climb -> .\n",
    "    except Synapse as s:\n",
    "        print(Ansi.R,'*** warning:',str(s),Ansi.N)\n",
    "        \n",
    "    return cells\n",
    "\n",
    "cells = setup(token)\n"
   ]
  },
  {
   "cell_type": "code",
   "execution_count": 4,
   "id": "a9eb4072-efb3-4c36-a1c0-c1f8cfa29afb",
   "metadata": {},
   "outputs": [],
   "source": [
    "class Train:\n",
    "    \"\"\"\n",
    "    parameter training\n",
    "    >>> Train()\n",
    "    Train(Cells(2,5,2,3))\n",
    "    \"\"\"\n",
    "    def __init__(self,cells=None):\n",
    "        self.memory = []\n",
    "        self.cells = Cells() if cells is None else cells\n",
    "\n",
    "    def pattern(self,list):\n",
    "        \"\"\"\n",
    "        >>> Train().pattern([1,0,1,0])\n",
    "        '1010'\n",
    "        \"\"\"\n",
    "        str = ''\n",
    "        for item in list: str += '1' if item else '0'\n",
    "        return str\n",
    "    \n",
    "    def hash(self,M):    # hash of a matrix\n",
    "        \"\"\"\n",
    "        Train().hash(Matrix([[1,1,0],[0,1,1]]))\n",
    "        \"\"\"\n",
    "        list = M.list();  str = ''\n",
    "        m,n = M.shape; sep = ''\n",
    "        for i in range(m):\n",
    "            row = list[i]\n",
    "            str += sep + self.pattern(row); sep = '|'\n",
    "        return str\n",
    "\n",
    "    def next(self,M):\n",
    "        \"\"\"\n",
    "        >>> Train().next(Matrix(2,3))\n",
    "        [1 1 1; 0 0 0]\n",
    "        >>> Train().next([[0,0,0],[1,1,1]])\n",
    "        [0 0 1; 1 1 0]\n",
    "        >>> Train().next([[0,1,1],[1,0,0]])\n",
    "        [1 0 1; 0 1 0]\n",
    "        \"\"\"\n",
    "        return follow(M)\n",
    "\n",
    "    def __call__(self,context,word):\n",
    "        \"\"\"\n",
    "        >>> train = Train(Cells(2,5,4,3))\n",
    "        \"\"\"\n",
    "\n",
    "    def __str__(self):\n",
    "        if self.cells is None: return 'Train()'\n",
    "        return 'Train(Cells(%g,%g,%g,%g))' % self.cells.shape\n",
    "\n",
    "    def __repr__(self):\n",
    "        return self.__str__()\n",
    "    \n",
    "        "
   ]
  },
  {
   "cell_type": "code",
   "execution_count": 5,
   "id": "1e2c8c56-84da-49f8-8cfd-d6eaedb2e51e",
   "metadata": {},
   "outputs": [
    {
     "name": "stdout",
     "output_type": "stream",
     "text": [
      "Train(Cells(2,5,2,3))\n"
     ]
    },
    {
     "data": {
      "text/plain": [
       "{}"
      ]
     },
     "execution_count": 5,
     "metadata": {},
     "output_type": "execute_result"
    }
   ],
   "source": [
    "train = Train(Cells(token=token)); print(train)\n",
    "train.next(Matrix(2,3))\n",
    "Token()"
   ]
  },
  {
   "cell_type": "code",
   "execution_count": 8,
   "id": "1a0e0dac-bedd-45ef-a763-2fed36f3f5e2",
   "metadata": {},
   "outputs": [
    {
     "ename": "AttributeError",
     "evalue": "'Toy' object has no attribute 'token'",
     "output_type": "error",
     "traceback": [
      "\u001b[0;31m---------------------------------------------------------------------------\u001b[0m",
      "\u001b[0;31mAttributeError\u001b[0m                            Traceback (most recent call last)",
      "Cell \u001b[0;32mIn[8], line 1\u001b[0m\n\u001b[0;32m----> 1\u001b[0m toy\u001b[38;5;241m=\u001b[39mToy(\u001b[38;5;124m'\u001b[39m\u001b[38;5;124mSarah\u001b[39m\u001b[38;5;124m'\u001b[39m); toy\u001b[38;5;241m.\u001b[39mtoken\n",
      "\u001b[0;31mAttributeError\u001b[0m: 'Toy' object has no attribute 'token'"
     ]
    }
   ],
   "source": [
    "toy=Toy('Sarah'); toy.token"
   ]
  },
  {
   "cell_type": "code",
   "execution_count": null,
   "id": "b9f527c7-44a9-43af-9e2e-743a0b1c94ac",
   "metadata": {},
   "outputs": [],
   "source": []
  },
  {
   "cell_type": "code",
   "execution_count": null,
   "id": "ffd015e0-0bd2-45ec-b94b-65b0e275b664",
   "metadata": {},
   "outputs": [],
   "source": []
  },
  {
   "cell_type": "code",
   "execution_count": null,
   "id": "bf4e712b-c441-4379-9c62-ee622687661d",
   "metadata": {},
   "outputs": [],
   "source": []
  }
 ],
 "metadata": {
  "kernelspec": {
   "display_name": "Python 3 (ipykernel)",
   "language": "python",
   "name": "python3"
  },
  "language_info": {
   "codemirror_mode": {
    "name": "ipython",
    "version": 3
   },
   "file_extension": ".py",
   "mimetype": "text/x-python",
   "name": "python",
   "nbconvert_exporter": "python",
   "pygments_lexer": "ipython3",
   "version": "3.11.5"
  }
 },
 "nbformat": 4,
 "nbformat_minor": 5
}
