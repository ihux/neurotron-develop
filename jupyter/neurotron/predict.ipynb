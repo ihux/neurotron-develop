{
 "cells": [
  {
   "cell_type": "code",
   "execution_count": 207,
   "id": "af5af936-2302-4152-8a63-d90f01221371",
   "metadata": {},
   "outputs": [],
   "source": [
    "# predict\n",
    "\n",
    "from neurotron import Cluster, Matrix, Token, Record, Monitor, Toy, isa, follow\n",
    "import neurotron.math as nm\n"
   ]
  },
  {
   "cell_type": "code",
   "execution_count": 208,
   "id": "cfe0c452-286a-4cb9-a99c-6fd25253a4c9",
   "metadata": {},
   "outputs": [],
   "source": [
    "class Cells(Cluster):\n",
    "    \"\"\"\n",
    "    >>> Cells()\n",
    "    |-|-|-|-|-|-|-|-|-|-|\n",
    "    >>> Cells('Mary')\n",
    "    \"\"\"\n",
    "    def __init__(self,shape=(2,5,2,3),token=None):\n",
    "        if isa(shape,str):\n",
    "            tag = shape      # rename\n",
    "            self.toy = Toy(tag)\n",
    "            shape = self.toy.shape\n",
    "            token = self.toy.token\n",
    "        else:\n",
    "            self.toy = None\n",
    "        nm.seed(1)\n",
    "        cells = super().__init__(*shape,verbose=1)\n",
    "        self.token = token\n",
    "        m,n,d,s = shape\n",
    "        f = [0,0,0] if token is None else token['.']\n",
    "        self.y = nm.row(nm.zeros(1,m*n),f)\n",
    "        self.record = Record(self)\n",
    "\n",
    "    def process(self,seq):\n",
    "        m,n,d,s = self.shape\n",
    "        seq = [seq] if isa(seq,str) else seq\n",
    "        prediction = [seq[0],'->']\n",
    "        for word in seq:\n",
    "            mon = Monitor(m,n);\n",
    "            self.y = nm.row(nm.zeros(1,m*n),token[word])\n",
    "            self.y = self.step(mon,self.y,word)\n",
    "            output,predict = self.decode()\n",
    "            mon.xlabel((n-1)/2,output+' -> '+predict)\n",
    "            prediction.append(predict)\n",
    "        return prediction\n",
    "\n",
    "    def predictive(self,list):\n",
    "        for k in list:\n",
    "            cells.X[k] = 1;\n",
    "            cells._predict.I[k] = Matrix([[.1,-.1,.1,-.1,.1],[0,0,0,0,0]])\n",
    "\n",
    "    def map(self):\n",
    "        self._predict.map()\n",
    "        \n",
    "    def __str__(self):\n",
    "        self.record.clear();  \n",
    "        self.record(self)\n",
    "        return self.record.pattern()\n",
    "\n",
    "    def __repr__(self):\n",
    "        return self.__str__()\n",
    "\n"
   ]
  },
  {
   "cell_type": "code",
   "execution_count": 209,
   "id": "22be08dd-b48e-4b79-8b58-329f44ab7705",
   "metadata": {},
   "outputs": [],
   "source": [
    "#=========================================================================\n",
    "# setup network\n",
    "#=========================================================================\n",
    "\n",
    "token = Token({'Mary': [1,0,0,0,0,0,0,1,1],\n",
    "               'John': [0,1,0,0,0,0,0,1,1],\n",
    "               'Lisa': [1,0,0,0,0,0,1,1,0],\n",
    "               'Andy': [0,1,0,0,0,0,1,1,0],\n",
    "               'likes':[0,0,1,0,0,0,0,1,1],\n",
    "               'to':   [0,0,0,1,0,0,0,1,1],\n",
    "               'sing': [0,0,0,0,1,0,0,1,1],\n",
    "               'dance':[0,0,0,0,0,1,0,1,1],\n",
    "               'hike': [0,0,0,0,1,0,1,1,0],\n",
    "               'climb':[0,0,0,0,1,0,1,0,1],\n",
    "               '.':    [0,0,0,0,0,0,1,1,1],\n",
    "              })\n",
    "    \n",
    "def setup(token):\n",
    "    shape = (2,9,8,3);  \n",
    "    cells = Cells(shape,token)\n",
    "    cells._predict.clear()\n",
    "\n",
    "    try:\n",
    "        cells.connect([0,14,16],[4,14,16])  # Mary -> likes\n",
    "        cells.connect([4,14,16],[6,14,16])  # likes -> to\n",
    "        cells.connect([6,14,16],[8,14,16])  # to -> sing\n",
    "        cells.connect([8,14,16],[12,14,16]) # sing -> .\n",
    "\n",
    "        cells.connect([2,14,16],[5,15,17])  # John -> likes  \n",
    "        cells.connect([5,15,17],[7,15,17])  # likes -> to\n",
    "        cells.connect([7,15,17],[10,15,17]) # to(7,15,17) -> dance(10,15,17)\n",
    "        cells.connect([10,15,17],[13,15,17])# dance -> .\n",
    "\n",
    "        cells.connect([0,12,14],[4,14,17])  # Lisa -> likes\n",
    "        cells.connect([4,14,17],[6,15,16])  # likes -> to\n",
    "        cells.connect([6,15,16],[8,12,14])  # to -> hike\n",
    "        cells.connect([8,12,14],[13,15,17]) # hike -> .\n",
    "\n",
    "        cells.connect([2,12,14],[5,14,17])  # Andy -> likes\n",
    "        cells.connect([5,14,17],[7,15,16])  # likes -> to\n",
    "        cells.connect([7,15,16],[9,12,16])  # to -> climb\n",
    "        cells.connect([9,12,16],[13,15,17]) # climb -> .\n",
    "    except Synapse as s:\n",
    "        print(Ansi.R,'*** warning:',str(s),Ansi.N)\n",
    "        \n",
    "    return cells\n",
    "\n",
    "cells = setup(token)\n"
   ]
  },
  {
   "cell_type": "code",
   "execution_count": 230,
   "id": "a9eb4072-efb3-4c36-a1c0-c1f8cfa29afb",
   "metadata": {},
   "outputs": [
    {
     "data": {
      "text/plain": [
       "[]"
      ]
     },
     "execution_count": 230,
     "metadata": {},
     "output_type": "execute_result"
    }
   ],
   "source": [
    "class Train:\n",
    "    \"\"\"\n",
    "    parameter training\n",
    "    >>> Train()\n",
    "    Train(Cells(2,5,2,3))\n",
    "    >>> Train(Cells('Mary')\n",
    "    \"\"\"\n",
    "    def __init__(self,cells=None):\n",
    "        self.memory = {}\n",
    "        self._words = {}\n",
    "        self._contexts = {}\n",
    "        self.cells = Cells() if cells is None else cells\n",
    "\n",
    "    def pattern(self,list):\n",
    "        \"\"\"\n",
    "        >>> Train().pattern([1,0,1,0])\n",
    "        '1010'\n",
    "        \"\"\"\n",
    "        str = ''\n",
    "        for item in list: str += '1' if item else '0'\n",
    "        return str\n",
    "    \n",
    "    def hash(self,M):    # hash of a matrix\n",
    "        \"\"\"\n",
    "        Train().hash(Matrix([[1,1,0],[0,1,1]]))\n",
    "        \"\"\"\n",
    "        list = M.list();  str = ''\n",
    "        m,n = M.shape; sep = ''\n",
    "        for i in range(m):\n",
    "            row = list[i]\n",
    "            str += sep + self.pattern(row); sep = '|'\n",
    "        return str\n",
    "\n",
    "    def next(self,M):\n",
    "        \"\"\"\n",
    "        >>> Train().next(Matrix(2,3))\n",
    "        [1 1 1; 0 0 0]\n",
    "        >>> Train().next([[0,0,0],[1,1,1]])\n",
    "        [0 0 1; 1 1 0]\n",
    "        >>> Train().next([[0,1,1],[1,0,0]])\n",
    "        [1 0 1; 0 1 0]\n",
    "        \"\"\"\n",
    "        if M is None:\n",
    "            m,n,d,s = self.cells.shape\n",
    "            return follow(Matrix(m,n))\n",
    "        return follow(M)\n",
    "\n",
    "    def token(self,word=None):\n",
    "        \"\"\"\n",
    "        >>> dict = Train(Cells('Mary')).token() \n",
    "        >>> Train(Cells('Mary')).token('likes')\n",
    "        [0, 0, 1, 0, 0, 0, 0, 1, 1]\n",
    "        \"\"\"\n",
    "        if word is None: return self.cells.token\n",
    "        return self.cells.token[word]\n",
    "\n",
    "    def number(self,M):\n",
    "        m,n = M.shape; nmb = 0; base = 1;\n",
    "        for j in range(n):\n",
    "            for i in range(m):\n",
    "                if M[i,j]:\n",
    "                    nmb += base*i; break\n",
    "            base *= m\n",
    "        return nmb\n",
    "        \n",
    "    def index(self,token):\n",
    "        \"\"\"\n",
    "        >>> train = Train(Cells('Mary'))\n",
    "        >>> train.index(train.token('likes'))\n",
    "        [2, 7, 8]\n",
    "        \"\"\"\n",
    "        idx = []\n",
    "        for k in range(len(token)):\n",
    "            if token[k]: idx.append(k)\n",
    "        return idx\n",
    "\n",
    "    def _word(self,word):  # store/update word to ._words\n",
    "        \"\"\"\n",
    "        word 'Mary' is stored as ([0,7,8],'#0',[[1,1,1],[0,0,0]])\n",
    "        >>> Train(Cells('Mary'))._update_word('Mary')\n",
    "        ('Mary',([0,7,8],'#0',[[1,1,1],[0,0,0]]))\n",
    "        \"\"\"\n",
    "        m = self.cells.shape[0]\n",
    "        n = len(self.index(self.token(word)))\n",
    "        if not word in self._words:\n",
    "            triple = (self.index(self.token(word)),'#-1',Matrix(m,n))\n",
    "            #print('### triple:',triple)\n",
    "        else:\n",
    "            triple = self._words[word]\n",
    "            idx,key,M = triple \n",
    "            key = '#%g' % (int(key[1:])+1)\n",
    "            M = self.next(M)\n",
    "            if M is None: \n",
    "                raise Exception('representation overflow (max %g)' % m**n)\n",
    "            triple = (idx,key,M)\n",
    "        self._words[word] = triple\n",
    "        return(word,triple)\n",
    "        \n",
    "    def _learn(self,context,word):    # process first item of sequence\n",
    "        if context == '':\n",
    "            context = word\n",
    "        else:\n",
    "            context = context + ' ' + word\n",
    "        value = self.memory[context] if context in self.memory else []\n",
    "        print('### learn: ',context,'->',value)\n",
    "        idx = self.index(self.token(word))\n",
    "        if value == []:\n",
    "            value.append((word,idx))\n",
    "            self.memory[context] = value\n",
    "        print('           ',context,'->',self.memory[context])\n",
    "        return context\n",
    "        \n",
    "    def _train(self,context,word):\n",
    "        \"\"\"\n",
    "        >>> train = Train(Cells('Mary'))\n",
    "        \"\"\"\n",
    "        print('### train:',(context,word))\n",
    "        if context == '':\n",
    "            if not word in self._words:\n",
    "                self._word(word)\n",
    "            return self._words[word]\n",
    "        context = self._learn(context,word)\n",
    "        return context\n",
    "\n",
    "    def __call__(self,context,word):\n",
    "        return self._train(context,word)\n",
    "        \n",
    "    def __str__(self):\n",
    "        if self.cells is None: return 'Train()'\n",
    "        if self.cells.toy is not None:\n",
    "            return \"Train(Cells('%s'))\" % self.cells.toy.tag\n",
    "        return 'Train(Cells(%g,%g,%g,%g))' % self.cells.shape\n",
    "\n",
    "    def __repr__(self):\n",
    "        return self.__str__()\n",
    "\"\"\"\n",
    "how to represent 'Mary'?\n",
    "=> from token get the columns (indices)\n",
    "'Mary':  ([0,7,8],#0,[[1,1,1],[0,0,0]])\n",
    "'John':  ([1,7,8],#0,[[1,1,1],[0,0,0]])\n",
    "'likes': ([2,7,8],#2,[[1,0,1],[0,1,0]])\n",
    "'to':    ([3,7,8],#0,[[1,1,1],[0,0,0]])\n",
    "'sing':  ([4,7,8],#0,[[1,1,1],[0,0,0]])\n",
    "'paint': ([5,6,7],#0,[[1,1,1],[0,0,0]])\n",
    "'<Mary>': {\n",
    "    '#':([0 7 8],'#0','Mary')\n",
    "    '@': ['#0',[1 1 1; 0 0 0],'0.0-7.0-8.0']\n",
    "    'likes':'<Mary likes>'\n",
    "    }\n",
    "'<John>': {\n",
    "    '#':([1,7,8],'#0','John')\n",
    "    '@': ['#0',[1 1 1; 0 0 0],'1.0-7.0-8.0']\n",
    "    'likes':'<John likes>'\n",
    "    }\n",
    "'<Mary likes>': {\n",
    "    '#':([2,7,8],'#0','likes')\n",
    "    '@':['#0',[1 1 1; 0 0 0],'2.0-7.0-8.0'],\n",
    "    'to': '<Mary likes to>'\n",
    "    }\n",
    "'<John likes>': {\n",
    "    '#':([2,7,8],'#1','likes')\n",
    "    '@':['#1',[0 1 1; 1 0 0],'2.1-7.0-8.0'],\n",
    "    'to': '<John likes to>'\n",
    "    }\n",
    "'Lisa likes': {\n",
    "    '#':([2,7,8],'#2','likes')\n",
    "    '@':['#2',[1 0 1; 0 1 0],'2.0-7.1-8.0'],\n",
    "    'to': '<Lisa likes to>'\n",
    "    }\n",
    "'Mary likes to': { \n",
    "    '#':([3,7,8],'#0','to')\n",
    "    '@':['#0',[1 1 1; 0 0 0],'2.0-7.0-8.0'],\n",
    "    'sing': [3,'Mary likes to sing']\n",
    "    'paint': [1,'Mary likes to paint']\n",
    "    }\n",
    "'John likes to': { \n",
    "    '#':([3,7,8],'#1','to')\n",
    "    '@':['#1',[0 1 1; 1 0 0],'2.1-7.0-8.0'],\n",
    "    'sing': [2,'<John likes to sing>']\n",
    "    'climb': [1,'<John likes to climb>']\n",
    "    }\n",
    "\n",
    "'Mary likes to sing': { \n",
    "    '#':([4,7,8],'#0','sing')\n",
    "    '@':['#0',[1 1 1; 0 0 0],'4.0-7.0-8.0'],\n",
    "    '.': [3,'<Mary likes to sing .>']\n",
    "    }\n",
    "\n",
    "'Mary likes to paint': { \n",
    "    '#':([5,6,7],'#0','paint'],\n",
    "    '@':['#0',[1 1 1; 0 0 0],'5.0-6.0-7.0'],\n",
    "    '.': [1,'Mary likes to paint .']\n",
    "    }\n",
    "    \n",
    "\"\"\"\n",
    "[]       "
   ]
  },
  {
   "cell_type": "code",
   "execution_count": 231,
   "id": "1e2c8c56-84da-49f8-8cfd-d6eaedb2e51e",
   "metadata": {},
   "outputs": [
    {
     "name": "stdout",
     "output_type": "stream",
     "text": [
      "Train(Cells('Mary'))\n"
     ]
    },
    {
     "data": {
      "text/plain": [
       "[1 1 1; 0 0 0]"
      ]
     },
     "execution_count": 231,
     "metadata": {},
     "output_type": "execute_result"
    }
   ],
   "source": [
    "train = Train(Cells('Mary')); print(train)\n",
    "train.next(Matrix(2,3))"
   ]
  },
  {
   "cell_type": "code",
   "execution_count": 232,
   "id": "e32bf798-0d5c-4aa5-b793-2a8d1aec592a",
   "metadata": {},
   "outputs": [
    {
     "name": "stdout",
     "output_type": "stream",
     "text": [
      "### train: ('', 'Mary')\n",
      "context: ([0, 7, 8], '#-1', [0 0 0; 0 0 0])\n",
      "### train: ('', 'Mary')\n",
      "context: ([0, 7, 8], '#-1', [0 0 0; 0 0 0])\n",
      "### train: ('', 'Mary')\n",
      "context: ([0, 7, 8], '#-1', [0 0 0; 0 0 0])\n"
     ]
    }
   ],
   "source": [
    "context = train('','Mary'); print('context:',context)\n",
    "context = train('','Mary'); print('context:',context)\n",
    "context = train('','Mary'); print('context:',context)"
   ]
  },
  {
   "cell_type": "code",
   "execution_count": 233,
   "id": "fd4d5dbc-2214-4913-b38b-64b4a1da8d4b",
   "metadata": {},
   "outputs": [
    {
     "name": "stdout",
     "output_type": "stream",
     "text": [
      "### train: ('Mary', 'likes')\n",
      "### learn:  Mary likes -> []\n",
      "            Mary likes -> [('likes', [2, 7, 8])]\n",
      "context: Mary likes\n"
     ]
    }
   ],
   "source": [
    "context = train('Mary','likes'); print('context:',context)"
   ]
  },
  {
   "cell_type": "code",
   "execution_count": 234,
   "id": "a208ccb5-8ca2-4ff2-b7cd-2142aaba8f94",
   "metadata": {},
   "outputs": [
    {
     "data": {
      "text/plain": [
       "[0, 7, 8]"
      ]
     },
     "execution_count": 234,
     "metadata": {},
     "output_type": "execute_result"
    }
   ],
   "source": [
    "train.index(train.token('Mary'))"
   ]
  },
  {
   "cell_type": "code",
   "execution_count": 235,
   "id": "1c921222-fa40-4693-9f6b-d773191dc95d",
   "metadata": {},
   "outputs": [],
   "source": [
    "list=[1,2]"
   ]
  },
  {
   "cell_type": "code",
   "execution_count": 236,
   "id": "c1ae06f7-8666-4bb0-8503-63d0ced3a4aa",
   "metadata": {},
   "outputs": [
    {
     "data": {
      "text/plain": [
       "[1, 8]"
      ]
     },
     "execution_count": 236,
     "metadata": {},
     "output_type": "execute_result"
    }
   ],
   "source": [
    "list[1]=8;list"
   ]
  },
  {
   "cell_type": "code",
   "execution_count": 242,
   "id": "563081f2-cc9a-4b71-a436-92b7a2392a33",
   "metadata": {},
   "outputs": [
    {
     "name": "stdout",
     "output_type": "stream",
     "text": [
      "### train: ('', 'Mary')\n",
      "([0, 7, 8], '#7', [0 0 0; 1 1 1])\n"
     ]
    },
    {
     "data": {
      "text/plain": [
       "{'Mary': ([0, 7, 8], '#7', [0 0 0; 1 1 1])}"
      ]
     },
     "execution_count": 242,
     "metadata": {},
     "output_type": "execute_result"
    }
   ],
   "source": [
    "for (k in range(3): print(train('','Mary')); train._words"
   ]
  },
  {
   "cell_type": "code",
   "execution_count": 240,
   "id": "ae00fb1c-5cc3-4bc0-943b-15ba282d5ba5",
   "metadata": {},
   "outputs": [
    {
     "name": "stdout",
     "output_type": "stream",
     "text": [
      "('Mary', ([0, 7, 8], '#-1', [0 0 0; 0 0 0]))\n",
      "('Mary', ([0, 7, 8], '#0', [1 1 1; 0 0 0]))\n",
      "('Mary', ([0, 7, 8], '#1', [0 1 1; 1 0 0]))\n",
      "('Mary', ([0, 7, 8], '#2', [1 0 1; 0 1 0]))\n",
      "('Mary', ([0, 7, 8], '#3', [0 0 1; 1 1 0]))\n",
      "('Mary', ([0, 7, 8], '#4', [1 1 0; 0 0 1]))\n",
      "('Mary', ([0, 7, 8], '#5', [0 1 0; 1 0 1]))\n",
      "('Mary', ([0, 7, 8], '#6', [1 0 0; 0 1 1]))\n",
      "('Mary', ([0, 7, 8], '#7', [0 0 0; 1 1 1]))\n"
     ]
    },
    {
     "ename": "Exception",
     "evalue": "representation overflow (max 8)",
     "output_type": "error",
     "traceback": [
      "\u001b[0;31m---------------------------------------------------------------------------\u001b[0m",
      "\u001b[0;31mException\u001b[0m                                 Traceback (most recent call last)",
      "Cell \u001b[0;32mIn[240], line 3\u001b[0m\n\u001b[1;32m      1\u001b[0m train \u001b[38;5;241m=\u001b[39m Train(Cells(\u001b[38;5;124m'\u001b[39m\u001b[38;5;124mMary\u001b[39m\u001b[38;5;124m'\u001b[39m))\n\u001b[1;32m      2\u001b[0m \u001b[38;5;28;01mfor\u001b[39;00m k \u001b[38;5;129;01min\u001b[39;00m \u001b[38;5;28mrange\u001b[39m(\u001b[38;5;241m66\u001b[39m):\n\u001b[0;32m----> 3\u001b[0m     \u001b[38;5;28mprint\u001b[39m(train\u001b[38;5;241m.\u001b[39m_word(\u001b[38;5;124m'\u001b[39m\u001b[38;5;124mMary\u001b[39m\u001b[38;5;124m'\u001b[39m)); train\u001b[38;5;241m.\u001b[39m_words\n",
      "Cell \u001b[0;32mIn[230], line 94\u001b[0m, in \u001b[0;36mTrain._word\u001b[0;34m(self, word)\u001b[0m\n\u001b[1;32m     92\u001b[0m     M \u001b[38;5;241m=\u001b[39m \u001b[38;5;28mself\u001b[39m\u001b[38;5;241m.\u001b[39mnext(M)\n\u001b[1;32m     93\u001b[0m     \u001b[38;5;28;01mif\u001b[39;00m M \u001b[38;5;129;01mis\u001b[39;00m \u001b[38;5;28;01mNone\u001b[39;00m: \n\u001b[0;32m---> 94\u001b[0m         \u001b[38;5;28;01mraise\u001b[39;00m \u001b[38;5;167;01mException\u001b[39;00m(\u001b[38;5;124m'\u001b[39m\u001b[38;5;124mrepresentation overflow (max \u001b[39m\u001b[38;5;132;01m%g\u001b[39;00m\u001b[38;5;124m)\u001b[39m\u001b[38;5;124m'\u001b[39m \u001b[38;5;241m%\u001b[39m m\u001b[38;5;241m*\u001b[39m\u001b[38;5;241m*\u001b[39mn)\n\u001b[1;32m     95\u001b[0m     triple \u001b[38;5;241m=\u001b[39m (idx,key,M)\n\u001b[1;32m     96\u001b[0m \u001b[38;5;28mself\u001b[39m\u001b[38;5;241m.\u001b[39m_words[word] \u001b[38;5;241m=\u001b[39m triple\n",
      "\u001b[0;31mException\u001b[0m: representation overflow (max 8)"
     ]
    }
   ],
   "source": [
    "train = Train(Cells('Mary'))\n",
    "for k in range(66):\n",
    "    print(train._word('Mary')); train._words"
   ]
  },
  {
   "cell_type": "code",
   "execution_count": 239,
   "id": "884bf2a7-901d-44ef-a1e6-ae03534aa21f",
   "metadata": {},
   "outputs": [
    {
     "data": {
      "text/plain": [
       "[1 1 1; 0 0 0]"
      ]
     },
     "execution_count": 239,
     "metadata": {},
     "output_type": "execute_result"
    }
   ],
   "source": [
    "train.next(Matrix(2,3))"
   ]
  },
  {
   "cell_type": "code",
   "execution_count": null,
   "id": "c2f37e8d-4235-493b-baac-5403ac76c471",
   "metadata": {},
   "outputs": [],
   "source": []
  }
 ],
 "metadata": {
  "kernelspec": {
   "display_name": "Python 3 (ipykernel)",
   "language": "python",
   "name": "python3"
  },
  "language_info": {
   "codemirror_mode": {
    "name": "ipython",
    "version": 3
   },
   "file_extension": ".py",
   "mimetype": "text/x-python",
   "name": "python",
   "nbconvert_exporter": "python",
   "pygments_lexer": "ipython3",
   "version": "3.11.5"
  }
 },
 "nbformat": 4,
 "nbformat_minor": 5
}
