{
 "cells": [
  {
   "cell_type": "code",
   "execution_count": 1,
   "id": "af5af936-2302-4152-8a63-d90f01221371",
   "metadata": {},
   "outputs": [],
   "source": [
    "# predict\n",
    "\n",
    "from neurotron import Cluster, Token, Record, Monitor, isa\n",
    "import neurotron.math as nm\n"
   ]
  },
  {
   "cell_type": "code",
   "execution_count": 2,
   "id": "cfe0c452-286a-4cb9-a99c-6fd25253a4c9",
   "metadata": {},
   "outputs": [],
   "source": [
    "class Cells(Cluster):\n",
    "    def __init__(self,shape=(2,5,2,3),token=None):\n",
    "        nm.seed(1)\n",
    "        cells = super().__init__(*shape,verbose=1)\n",
    "        self.token = token\n",
    "        m,n,d,s = shape\n",
    "        f = [0,0,0] if token is None else token['.']\n",
    "        self.y = nm.row(nm.zeros(1,m*n),f)\n",
    "        self.record = Record(self)\n",
    "\n",
    "    def process(self,seq):\n",
    "        m,n,d,s = self.shape\n",
    "        seq = [seq] if isa(seq,str) else seq\n",
    "        prediction = [seq[0],'->']\n",
    "        for word in seq:\n",
    "            mon = Monitor(m,n);\n",
    "            self.y = nm.row(nm.zeros(1,m*n),token[word])\n",
    "            self.y = self.step(mon,self.y,word)\n",
    "            output,predict = self.decode()\n",
    "            mon.xlabel((n-1)/2,output+' -> '+predict)\n",
    "            prediction.append(predict)\n",
    "        return prediction\n",
    "\n",
    "    def predictive(self,list):\n",
    "        for k in list:\n",
    "            cells.X[k] = 1;\n",
    "            cells._predict.I[k] = Matrix([[.1,-.1,.1,-.1,.1],[0,0,0,0,0]])\n",
    "\n",
    "    def map(self):\n",
    "        self._predict.map()\n",
    "        \n",
    "    def __str__(self):\n",
    "        self.record.clear();  \n",
    "        self.record(self)\n",
    "        return self.record.pattern()\n",
    "\n",
    "    def __repr__(self):\n",
    "        return self.__str__()\n",
    "\n"
   ]
  },
  {
   "cell_type": "code",
   "execution_count": 3,
   "id": "22be08dd-b48e-4b79-8b58-329f44ab7705",
   "metadata": {},
   "outputs": [],
   "source": [
    "#=========================================================================\n",
    "# setup network\n",
    "#=========================================================================\n",
    "\n",
    "token = Token({'Mary': [1,0,0,0,0,0,0,1,1],\n",
    "               'John': [0,1,0,0,0,0,0,1,1],\n",
    "               'Lisa': [1,0,0,0,0,0,1,1,0],\n",
    "               'Andy': [0,1,0,0,0,0,1,1,0],\n",
    "               'likes':[0,0,1,0,0,0,0,1,1],\n",
    "               'to':   [0,0,0,1,0,0,0,1,1],\n",
    "               'sing': [0,0,0,0,1,0,0,1,1],\n",
    "               'dance':[0,0,0,0,0,1,0,1,1],\n",
    "               'hike': [0,0,0,0,1,0,1,1,0],\n",
    "               'climb':[0,0,0,0,1,0,1,0,1],\n",
    "               '.':    [0,0,0,0,0,0,1,1,1],\n",
    "              })\n",
    "    \n",
    "def setup(token):\n",
    "    shape = (2,9,8,3);  \n",
    "    cells = Cells(shape,token)\n",
    "    cells._predict.clear()\n",
    "\n",
    "    try:\n",
    "        cells.connect([0,14,16],[4,14,16])  # Mary -> likes\n",
    "        cells.connect([4,14,16],[6,14,16])  # likes -> to\n",
    "        cells.connect([6,14,16],[8,14,16])  # to -> sing\n",
    "        cells.connect([8,14,16],[12,14,16]) # sing -> .\n",
    "\n",
    "        cells.connect([2,14,16],[5,15,17])  # John -> likes  \n",
    "        cells.connect([5,15,17],[7,15,17])  # likes -> to\n",
    "        cells.connect([7,15,17],[10,15,17]) # to(7,15,17) -> dance(10,15,17)\n",
    "        cells.connect([10,15,17],[13,15,17])# dance -> .\n",
    "\n",
    "        cells.connect([0,12,14],[4,14,17])  # Lisa -> likes\n",
    "        cells.connect([4,14,17],[6,15,16])  # likes -> to\n",
    "        cells.connect([6,15,16],[8,12,14])  # to -> hike\n",
    "        cells.connect([8,12,14],[13,15,17]) # hike -> .\n",
    "\n",
    "        cells.connect([2,12,14],[5,14,17])  # Andy -> likes\n",
    "        cells.connect([5,14,17],[7,15,16])  # likes -> to\n",
    "        cells.connect([7,15,16],[9,12,16])  # to -> climb\n",
    "        cells.connect([9,12,16],[13,15,17]) # climb -> .\n",
    "    except Synapse as s:\n",
    "        print(Ansi.R,'*** warning:',str(s),Ansi.N)\n",
    "        \n",
    "    return cells\n",
    "\n",
    "cells = setup(token)\n"
   ]
  },
  {
   "cell_type": "code",
   "execution_count": 7,
   "id": "a9eb4072-efb3-4c36-a1c0-c1f8cfa29afb",
   "metadata": {},
   "outputs": [],
   "source": [
    "class Train:\n",
    "    def __init__(self,cells=None):\n",
    "        self.memory = []\n",
    "        self.cells = cells\n",
    "\n",
    "    def pattern(self,list):\n",
    "        \"\"\"\n",
    "        >>> Train().pattern([1,0,1,0])\n",
    "        '1010'\n",
    "        \"\"\"\n",
    "        str = ''\n",
    "        for item in list: str += '1' if item else '0'\n",
    "        return str\n",
    "    \n",
    "    def hash(self,M):    # hash of a matrix\n",
    "        \"\"\"\n",
    "        Train().hash(Matrix(3,3))\n",
    "        \"\"\"\n",
    "        list = M.list();  str = ''\n",
    "        m,n = M.shape; sep = ''\n",
    "        for i in range(m):\n",
    "            row = list[i]\n",
    "            str += sep + self.pattern(row); sep = '|'\n",
    "        return str\n",
    "        "
   ]
  },
  {
   "cell_type": "code",
   "execution_count": 6,
   "id": "1e2c8c56-84da-49f8-8cfd-d6eaedb2e51e",
   "metadata": {},
   "outputs": [
    {
     "name": "stdout",
     "output_type": "stream",
     "text": [
      "K: +-000/0-+-002/2-+-004/4-+-006/6-+-008/8-+\n",
      "   |  589  |  500  |  176  |  924  |  524  |\n",
      "   |  247  |  791  |  706  |  997  |  691  |\n",
      "   +-001/1-+-003/3-+-005/5-+-007/7-+-009/9-+\n",
      "   |  018  |  839  |  873  |  651  |  934  |\n",
      "   |  814  |  039  |  204  |  927  |  798  |\n",
      "   +-------+-------+-------+-------+-------+\n",
      "P: +-000/0-+-002/2-+-004/4-+-006/6-+-008/8-+\n",
      "   |  Ape  |  mk1  |  hcw  |  rCP  |  Pe1  |\n",
      "   |  CMw  |  uUJ  |  pwJ  |  hhr  |  HEe  |\n",
      "   +-001/1-+-003/3-+-005/5-+-007/7-+-009/9-+\n",
      "   |  JcE  |  HEm  |  eeJ  |  mRW  |  wJC  |\n",
      "   |  UeC  |  wHu  |  AW1  |  urH  |  erC  |\n",
      "   +-------+-------+-------+-------+-------+\n",
      "W: +-000/0-+-002/2-+-004/4-+-006/6-+-008/8-+\n",
      "   |  100  |  001  |  000  |  011  |  101  |\n",
      "   |  110  |  011  |  001  |  000  |  110  |\n",
      "   +-001/1-+-003/3-+-005/5-+-007/7-+-009/9-+\n",
      "   |  101  |  110  |  001  |  011  |  011  |\n",
      "   |  101  |  010  |  111  |  001  |  001  |\n",
      "   +-------+-------+-------+-------+-------+\n"
     ]
    }
   ],
   "source": [
    "Cells().map()\n"
   ]
  },
  {
   "cell_type": "code",
   "execution_count": null,
   "id": "1a0e0dac-bedd-45ef-a763-2fed36f3f5e2",
   "metadata": {},
   "outputs": [],
   "source": [
    "#cells.process(['Mary','likes','to','sing'])"
   ]
  },
  {
   "cell_type": "code",
   "execution_count": null,
   "id": "b9f527c7-44a9-43af-9e2e-743a0b1c94ac",
   "metadata": {},
   "outputs": [],
   "source": []
  },
  {
   "cell_type": "code",
   "execution_count": null,
   "id": "ffd015e0-0bd2-45ec-b94b-65b0e275b664",
   "metadata": {},
   "outputs": [],
   "source": []
  },
  {
   "cell_type": "code",
   "execution_count": null,
   "id": "bf4e712b-c441-4379-9c62-ee622687661d",
   "metadata": {},
   "outputs": [],
   "source": []
  }
 ],
 "metadata": {
  "kernelspec": {
   "display_name": "Python 3 (ipykernel)",
   "language": "python",
   "name": "python3"
  },
  "language_info": {
   "codemirror_mode": {
    "name": "ipython",
    "version": 3
   },
   "file_extension": ".py",
   "mimetype": "text/x-python",
   "name": "python",
   "nbconvert_exporter": "python",
   "pygments_lexer": "ipython3",
   "version": "3.11.5"
  }
 },
 "nbformat": 4,
 "nbformat_minor": 5
}
