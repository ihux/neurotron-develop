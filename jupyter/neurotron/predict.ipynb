{
 "cells": [
  {
   "cell_type": "code",
   "execution_count": 1,
   "id": "af5af936-2302-4152-8a63-d90f01221371",
   "metadata": {},
   "outputs": [],
   "source": [
    "# predict\n",
    "\n",
    "from neurotron import Cluster, Matrix, Token, Record, Monitor, Toy, isa, follow\n",
    "import neurotron.math as nm\n"
   ]
  },
  {
   "cell_type": "code",
   "execution_count": 2,
   "id": "cfe0c452-286a-4cb9-a99c-6fd25253a4c9",
   "metadata": {},
   "outputs": [],
   "source": [
    "class Cells(Cluster):\n",
    "    \"\"\"\n",
    "    >>> Cells()\n",
    "    |-|-|-|-|-|-|-|-|-|-|\n",
    "    >>> Cells('Mary')\n",
    "    \"\"\"\n",
    "    def __init__(self,shape=(2,5,2,3),token=None):\n",
    "        if isa(shape,str):\n",
    "            tag = shape      # rename\n",
    "            toy = Toy(shape)\n",
    "            shape = toy.shape\n",
    "            token = toy.token\n",
    "        nm.seed(1)\n",
    "        cells = super().__init__(*shape,verbose=1)\n",
    "        self.token = token\n",
    "        m,n,d,s = shape\n",
    "        f = [0,0,0] if token is None else token['.']\n",
    "        self.y = nm.row(nm.zeros(1,m*n),f)\n",
    "        self.record = Record(self)\n",
    "\n",
    "    def process(self,seq):\n",
    "        m,n,d,s = self.shape\n",
    "        seq = [seq] if isa(seq,str) else seq\n",
    "        prediction = [seq[0],'->']\n",
    "        for word in seq:\n",
    "            mon = Monitor(m,n);\n",
    "            self.y = nm.row(nm.zeros(1,m*n),token[word])\n",
    "            self.y = self.step(mon,self.y,word)\n",
    "            output,predict = self.decode()\n",
    "            mon.xlabel((n-1)/2,output+' -> '+predict)\n",
    "            prediction.append(predict)\n",
    "        return prediction\n",
    "\n",
    "    def predictive(self,list):\n",
    "        for k in list:\n",
    "            cells.X[k] = 1;\n",
    "            cells._predict.I[k] = Matrix([[.1,-.1,.1,-.1,.1],[0,0,0,0,0]])\n",
    "\n",
    "    def map(self):\n",
    "        self._predict.map()\n",
    "        \n",
    "    def __str__(self):\n",
    "        self.record.clear();  \n",
    "        self.record(self)\n",
    "        return self.record.pattern()\n",
    "\n",
    "    def __repr__(self):\n",
    "        return self.__str__()\n",
    "\n"
   ]
  },
  {
   "cell_type": "code",
   "execution_count": 3,
   "id": "22be08dd-b48e-4b79-8b58-329f44ab7705",
   "metadata": {},
   "outputs": [],
   "source": [
    "#=========================================================================\n",
    "# setup network\n",
    "#=========================================================================\n",
    "\n",
    "token = Token({'Mary': [1,0,0,0,0,0,0,1,1],\n",
    "               'John': [0,1,0,0,0,0,0,1,1],\n",
    "               'Lisa': [1,0,0,0,0,0,1,1,0],\n",
    "               'Andy': [0,1,0,0,0,0,1,1,0],\n",
    "               'likes':[0,0,1,0,0,0,0,1,1],\n",
    "               'to':   [0,0,0,1,0,0,0,1,1],\n",
    "               'sing': [0,0,0,0,1,0,0,1,1],\n",
    "               'dance':[0,0,0,0,0,1,0,1,1],\n",
    "               'hike': [0,0,0,0,1,0,1,1,0],\n",
    "               'climb':[0,0,0,0,1,0,1,0,1],\n",
    "               '.':    [0,0,0,0,0,0,1,1,1],\n",
    "              })\n",
    "    \n",
    "def setup(token):\n",
    "    shape = (2,9,8,3);  \n",
    "    cells = Cells(shape,token)\n",
    "    cells._predict.clear()\n",
    "\n",
    "    try:\n",
    "        cells.connect([0,14,16],[4,14,16])  # Mary -> likes\n",
    "        cells.connect([4,14,16],[6,14,16])  # likes -> to\n",
    "        cells.connect([6,14,16],[8,14,16])  # to -> sing\n",
    "        cells.connect([8,14,16],[12,14,16]) # sing -> .\n",
    "\n",
    "        cells.connect([2,14,16],[5,15,17])  # John -> likes  \n",
    "        cells.connect([5,15,17],[7,15,17])  # likes -> to\n",
    "        cells.connect([7,15,17],[10,15,17]) # to(7,15,17) -> dance(10,15,17)\n",
    "        cells.connect([10,15,17],[13,15,17])# dance -> .\n",
    "\n",
    "        cells.connect([0,12,14],[4,14,17])  # Lisa -> likes\n",
    "        cells.connect([4,14,17],[6,15,16])  # likes -> to\n",
    "        cells.connect([6,15,16],[8,12,14])  # to -> hike\n",
    "        cells.connect([8,12,14],[13,15,17]) # hike -> .\n",
    "\n",
    "        cells.connect([2,12,14],[5,14,17])  # Andy -> likes\n",
    "        cells.connect([5,14,17],[7,15,16])  # likes -> to\n",
    "        cells.connect([7,15,16],[9,12,16])  # to -> climb\n",
    "        cells.connect([9,12,16],[13,15,17]) # climb -> .\n",
    "    except Synapse as s:\n",
    "        print(Ansi.R,'*** warning:',str(s),Ansi.N)\n",
    "        \n",
    "    return cells\n",
    "\n",
    "cells = setup(token)\n"
   ]
  },
  {
   "cell_type": "code",
   "execution_count": 51,
   "id": "a9eb4072-efb3-4c36-a1c0-c1f8cfa29afb",
   "metadata": {},
   "outputs": [
    {
     "data": {
      "text/plain": [
       "\"\\nhow to represent 'Mary'?\\n=> from token get the columns (indices)\\n\""
      ]
     },
     "execution_count": 51,
     "metadata": {},
     "output_type": "execute_result"
    }
   ],
   "source": [
    "class Train:\n",
    "    \"\"\"\n",
    "    parameter training\n",
    "    >>> Train()\n",
    "    Train(Cells(2,5,2,3))\n",
    "    \"\"\"\n",
    "    def __init__(self,cells=None):\n",
    "        self.memory = {}\n",
    "        self.cells = Cells() if cells is None else cells\n",
    "\n",
    "    def pattern(self,list):\n",
    "        \"\"\"\n",
    "        >>> Train().pattern([1,0,1,0])\n",
    "        '1010'\n",
    "        \"\"\"\n",
    "        str = ''\n",
    "        for item in list: str += '1' if item else '0'\n",
    "        return str\n",
    "    \n",
    "    def hash(self,M):    # hash of a matrix\n",
    "        \"\"\"\n",
    "        Train().hash(Matrix([[1,1,0],[0,1,1]]))\n",
    "        \"\"\"\n",
    "        list = M.list();  str = ''\n",
    "        m,n = M.shape; sep = ''\n",
    "        for i in range(m):\n",
    "            row = list[i]\n",
    "            str += sep + self.pattern(row); sep = '|'\n",
    "        return str\n",
    "\n",
    "    def next(self,M):\n",
    "        \"\"\"\n",
    "        >>> Train().next(Matrix(2,3))\n",
    "        [1 1 1; 0 0 0]\n",
    "        >>> Train().next([[0,0,0],[1,1,1]])\n",
    "        [0 0 1; 1 1 0]\n",
    "        >>> Train().next([[0,1,1],[1,0,0]])\n",
    "        [1 0 1; 0 1 0]\n",
    "        \"\"\"\n",
    "        return follow(M)\n",
    "\n",
    "    def token(self,word):\n",
    "        \"\"\"\n",
    "        >>> Train(Cells('Mary')).token('likes')\n",
    "        [0, 0, 1, 0, 0, 0, 0, 1, 1]\n",
    "        \"\"\"\n",
    "        return self.cells.token[word]\n",
    "\n",
    "    def number(self,M):\n",
    "        m,n = M.shape; nmb = 0; base = 1;\n",
    "        for j in range(n):\n",
    "            for i in range(m):\n",
    "                if M[i,j]:\n",
    "                    nmb += base*i; break\n",
    "            base *= m\n",
    "        return nmb\n",
    "        \n",
    "    def index(self,token):\n",
    "        \"\"\"\n",
    "        >>> train = Train(Cells('Mary'))\n",
    "        >>> train.index(train.token('likes'))\n",
    "        [2, 7, 8]\n",
    "        \"\"\"\n",
    "        idx = []\n",
    "        for k in range(len(token)):\n",
    "            if token[k]: idx.append(k)\n",
    "        return idx\n",
    "\n",
    "    def _first(self,word):    # process first item of sequence\n",
    "        context = word\n",
    "        value = self.memory[context] if context in self.memory else []\n",
    "        print('### first: ',context,'->',value)\n",
    "        idx = self.index(self.token(word))\n",
    "        value.append((word,idx))\n",
    "        self.memory[context] = value\n",
    "        print('           ',context,'->',value)\n",
    "        return context\n",
    "        \n",
    "    def _train(self,context,word):\n",
    "        \"\"\"\n",
    "        >>> train = Train(Cells('Mary'))\n",
    "        \"\"\"\n",
    "        print('### train:',(context,word))\n",
    "        if context == '':\n",
    "            context = self._first(word)\n",
    "        else:\n",
    "            context = context + ' ' + word  # new context\n",
    "        return context\n",
    "\n",
    "    def __call__(self,context,word):\n",
    "        return self._train(context,word)\n",
    "        \n",
    "    def __str__(self):\n",
    "        if self.cells is None: return 'Train()'\n",
    "        return 'Train(Cells(%g,%g,%g,%g))' % self.cells.shape\n",
    "\n",
    "    def __repr__(self):\n",
    "        return self.__str__()\n",
    "\"\"\"\n",
    "how to represent 'Mary'?\n",
    "=> from token get the columns (indices)\n",
    "\"\"\"\n",
    "        "
   ]
  },
  {
   "cell_type": "code",
   "execution_count": 52,
   "id": "1e2c8c56-84da-49f8-8cfd-d6eaedb2e51e",
   "metadata": {},
   "outputs": [
    {
     "name": "stdout",
     "output_type": "stream",
     "text": [
      "Train(Cells(2,5,4,3))\n"
     ]
    },
    {
     "data": {
      "text/plain": [
       "[1 1 1; 0 0 0]"
      ]
     },
     "execution_count": 52,
     "metadata": {},
     "output_type": "execute_result"
    }
   ],
   "source": [
    "train = Train(Cells('Mary')); print(train)\n",
    "train.next(Matrix(2,3))"
   ]
  },
  {
   "cell_type": "code",
   "execution_count": 53,
   "id": "e32bf798-0d5c-4aa5-b793-2a8d1aec592a",
   "metadata": {},
   "outputs": [
    {
     "name": "stdout",
     "output_type": "stream",
     "text": [
      "### train: ('', 'Mary')\n",
      "### first:  Mary -> []\n",
      "            Mary -> [('Mary', [0, 7, 8])]\n",
      "context: Mary\n"
     ]
    }
   ],
   "source": [
    "context = train('','Mary'); print('context:',context)"
   ]
  },
  {
   "cell_type": "code",
   "execution_count": 54,
   "id": "fd4d5dbc-2214-4913-b38b-64b4a1da8d4b",
   "metadata": {},
   "outputs": [
    {
     "data": {
      "text/plain": [
       "False"
      ]
     },
     "execution_count": 54,
     "metadata": {},
     "output_type": "execute_result"
    }
   ],
   "source": [
    "t={}\n",
    "'Mary' in t"
   ]
  },
  {
   "cell_type": "code",
   "execution_count": 49,
   "id": "a208ccb5-8ca2-4ff2-b7cd-2142aaba8f94",
   "metadata": {},
   "outputs": [
    {
     "data": {
      "text/plain": [
       "[0, 7, 8]"
      ]
     },
     "execution_count": 49,
     "metadata": {},
     "output_type": "execute_result"
    }
   ],
   "source": [
    "train.index(train.token('Mary'))"
   ]
  },
  {
   "cell_type": "code",
   "execution_count": 40,
   "id": "1c921222-fa40-4693-9f6b-d773191dc95d",
   "metadata": {},
   "outputs": [],
   "source": [
    "list=[1,2]"
   ]
  },
  {
   "cell_type": "code",
   "execution_count": 41,
   "id": "c1ae06f7-8666-4bb0-8503-63d0ced3a4aa",
   "metadata": {},
   "outputs": [
    {
     "data": {
      "text/plain": [
       "[1, 8]"
      ]
     },
     "execution_count": 41,
     "metadata": {},
     "output_type": "execute_result"
    }
   ],
   "source": [
    "list[1]=8;list"
   ]
  },
  {
   "cell_type": "code",
   "execution_count": null,
   "id": "19ccaeb0-6da6-4bc1-b1a2-a5b99f109a30",
   "metadata": {},
   "outputs": [],
   "source": []
  }
 ],
 "metadata": {
  "kernelspec": {
   "display_name": "Python 3 (ipykernel)",
   "language": "python",
   "name": "python3"
  },
  "language_info": {
   "codemirror_mode": {
    "name": "ipython",
    "version": 3
   },
   "file_extension": ".py",
   "mimetype": "text/x-python",
   "name": "python",
   "nbconvert_exporter": "python",
   "pygments_lexer": "ipython3",
   "version": "3.11.5"
  }
 },
 "nbformat": 4,
 "nbformat_minor": 5
}
