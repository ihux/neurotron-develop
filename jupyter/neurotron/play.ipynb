{
 "cells": [
  {
   "cell_type": "code",
   "execution_count": 2,
   "id": "5db3516a-63fd-4b27-913a-a681549c528f",
   "metadata": {},
   "outputs": [],
   "source": [
    "from neurotron import Terminal,Collab,Excite,Matrix,reshape"
   ]
  },
  {
   "cell_type": "code",
   "execution_count": 3,
   "id": "dbc52109-9277-47d2-aaf8-88ff4895b2a3",
   "metadata": {},
   "outputs": [
    {
     "name": "stdout",
     "output_type": "stream",
     "text": [
      "K: +-000/0-+-003/3-+-006/6-+-009/9-+-012/C-+-015/F-+-018/I-+\n",
      "   |  12   |  45   |  78   |  AB   |  DE   |  GH   |  JK   |\n",
      "   +-001/1-+-004/4-+-007/7-+-010/A-+-013/D-+-016/G-+-019/J-+\n",
      "   |  02   |  35   |  68   |  9B   |  CE   |  FH   |  IK   |\n",
      "   +-002/2-+-005/5-+-008/8-+-011/B-+-014/E-+-017/H-+-020/K-+\n",
      "   |  01   |  34   |  67   |  9A   |  CD   |  FG   |  IJ   |\n",
      "   +-------+-------+-------+-------+-------+-------+-------+\n",
      "P: +-000/0-+-003/3-+-006/6-+-009/9-+-012/C-+-015/F-+-018/I-+\n",
      "   |  11   |  11   |  11   |  11   |  11   |  11   |  11   |\n",
      "   +-001/1-+-004/4-+-007/7-+-010/A-+-013/D-+-016/G-+-019/J-+\n",
      "   |  11   |  11   |  11   |  11   |  11   |  11   |  11   |\n",
      "   +-002/2-+-005/5-+-008/8-+-011/B-+-014/E-+-017/H-+-020/K-+\n",
      "   |  11   |  11   |  11   |  11   |  11   |  11   |  11   |\n",
      "   +-------+-------+-------+-------+-------+-------+-------+\n",
      "W: +-000/0-+-003/3-+-006/6-+-009/9-+-012/C-+-015/F-+-018/I-+\n",
      "   |  11   |  11   |  11   |  11   |  11   |  11   |  11   |\n",
      "   +-001/1-+-004/4-+-007/7-+-010/A-+-013/D-+-016/G-+-019/J-+\n",
      "   |  11   |  11   |  11   |  11   |  11   |  11   |  11   |\n",
      "   +-002/2-+-005/5-+-008/8-+-011/B-+-014/E-+-017/H-+-020/K-+\n",
      "   |  11   |  11   |  11   |  11   |  11   |  11   |  11   |\n",
      "   +-------+-------+-------+-------+-------+-------+-------+\n"
     ]
    }
   ],
   "source": [
    "collab = Terminal(Collab(3,7,2,5))\n",
    "collab.map()"
   ]
  },
  {
   "cell_type": "code",
   "execution_count": 8,
   "id": "d736f1c7-d91b-4e00-9408-8867b2c1ef71",
   "metadata": {},
   "outputs": [
    {
     "data": {
      "text/plain": [
       "[0 0 0 0 0 0 0; 1 0 1 0 0 0 1; 1 0 1 0 0 0 1]"
      ]
     },
     "execution_count": 8,
     "metadata": {},
     "output_type": "execute_result"
    }
   ],
   "source": [
    "c = Matrix(1,3*7); c[0] = c[2*3] = c[6*3] = 1\n",
    "collab(c)"
   ]
  },
  {
   "cell_type": "code",
   "execution_count": 12,
   "id": "da947fe0-eff3-47de-9bf7-12672ed0640d",
   "metadata": {},
   "outputs": [
    {
     "ename": "NameError",
     "evalue": "name 'reshape' is not defined",
     "output_type": "error",
     "traceback": [
      "\u001b[0;31m---------------------------------------------------------------------------\u001b[0m",
      "\u001b[0;31mNameError\u001b[0m                                 Traceback (most recent call last)",
      "Cell \u001b[0;32mIn[12], line 1\u001b[0m\n\u001b[0;32m----> 1\u001b[0m \u001b[38;5;28mprint\u001b[39m(reshape(c,\u001b[38;5;241m3\u001b[39m,\u001b[38;5;241m7\u001b[39m));collab\u001b[38;5;241m.\u001b[39mempower(c)\u001b[38;5;241m.\u001b[39mmap()\n",
      "\u001b[0;31mNameError\u001b[0m: name 'reshape' is not defined"
     ]
    }
   ],
   "source": [
    "print(reshape(c,3,7));collab.empower(c).map()"
   ]
  },
  {
   "cell_type": "code",
   "execution_count": null,
   "id": "bf72d4c6-241b-4066-9753-216fcdee43e3",
   "metadata": {},
   "outputs": [],
   "source": []
  }
 ],
 "metadata": {
  "kernelspec": {
   "display_name": "Python 3 (ipykernel)",
   "language": "python",
   "name": "python3"
  },
  "language_info": {
   "codemirror_mode": {
    "name": "ipython",
    "version": 3
   },
   "file_extension": ".py",
   "mimetype": "text/x-python",
   "name": "python",
   "nbconvert_exporter": "python",
   "pygments_lexer": "ipython3",
   "version": "3.11.5"
  }
 },
 "nbformat": 4,
 "nbformat_minor": 5
}
