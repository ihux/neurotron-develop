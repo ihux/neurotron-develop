{
 "cells": [
  {
   "cell_type": "code",
   "execution_count": 1,
   "id": "95a00926-0890-47f6-a822-e39a7ceedb55",
   "metadata": {},
   "outputs": [],
   "source": [
    "from neurotron import Matrix, isa"
   ]
  },
  {
   "cell_type": "code",
   "execution_count": 5,
   "id": "14dcbadd-426b-45e5-b056-6a52f81e1b63",
   "metadata": {},
   "outputs": [
    {
     "data": {
      "text/plain": [
       "[1]"
      ]
     },
     "execution_count": 5,
     "metadata": {},
     "output_type": "execute_result"
    }
   ],
   "source": [
    "Matrix(True)"
   ]
  },
  {
   "cell_type": "code",
   "execution_count": 2,
   "id": "6af8f4d4-16cd-4a7d-961f-f6673fc4d9ce",
   "metadata": {},
   "outputs": [
    {
     "data": {
      "text/plain": [
       "True"
      ]
     },
     "execution_count": 2,
     "metadata": {},
     "output_type": "execute_result"
    }
   ],
   "source": [
    "b=True\n",
    "isa(b,bool)\n"
   ]
  },
  {
   "cell_type": "code",
   "execution_count": 3,
   "id": "5613a8e4-8e65-47bb-9e3b-07be592454e0",
   "metadata": {},
   "outputs": [
    {
     "ename": "NameError",
     "evalue": "name 'isint' is not defined",
     "output_type": "error",
     "traceback": [
      "\u001b[0;31m---------------------------------------------------------------------------\u001b[0m",
      "\u001b[0;31mNameError\u001b[0m                                 Traceback (most recent call last)",
      "Cell \u001b[0;32mIn[3], line 1\u001b[0m\n\u001b[0;32m----> 1\u001b[0m \u001b[43misint\u001b[49m\n",
      "\u001b[0;31mNameError\u001b[0m: name 'isint' is not defined"
     ]
    }
   ],
   "source": [
    "isint\n"
   ]
  },
  {
   "cell_type": "code",
   "execution_count": 4,
   "id": "7d24fb2f-de90-428b-9f48-d5009d84b79f",
   "metadata": {},
   "outputs": [
    {
     "ename": "NameError",
     "evalue": "name 'isnum' is not defined",
     "output_type": "error",
     "traceback": [
      "\u001b[0;31m---------------------------------------------------------------------------\u001b[0m",
      "\u001b[0;31mNameError\u001b[0m                                 Traceback (most recent call last)",
      "Cell \u001b[0;32mIn[4], line 1\u001b[0m\n\u001b[0;32m----> 1\u001b[0m \u001b[43misnum\u001b[49m\n",
      "\u001b[0;31mNameError\u001b[0m: name 'isnum' is not defined"
     ]
    }
   ],
   "source": [
    "isnum"
   ]
  },
  {
   "cell_type": "code",
   "execution_count": 5,
   "id": "106b6fa9-d7eb-43eb-8bbf-15b708e60d1b",
   "metadata": {},
   "outputs": [
    {
     "ename": "NameError",
     "evalue": "name 'isnumber' is not defined",
     "output_type": "error",
     "traceback": [
      "\u001b[0;31m---------------------------------------------------------------------------\u001b[0m",
      "\u001b[0;31mNameError\u001b[0m                                 Traceback (most recent call last)",
      "Cell \u001b[0;32mIn[5], line 1\u001b[0m\n\u001b[0;32m----> 1\u001b[0m \u001b[43misnumber\u001b[49m\n",
      "\u001b[0;31mNameError\u001b[0m: name 'isnumber' is not defined"
     ]
    }
   ],
   "source": [
    "isnumber\n"
   ]
  },
  {
   "cell_type": "code",
   "execution_count": null,
   "id": "b2aac89a-be50-453f-81ab-9e63336b1ee9",
   "metadata": {},
   "outputs": [],
   "source": []
  }
 ],
 "metadata": {
  "kernelspec": {
   "display_name": "Python 3 (ipykernel)",
   "language": "python",
   "name": "python3"
  },
  "language_info": {
   "codemirror_mode": {
    "name": "ipython",
    "version": 3
   },
   "file_extension": ".py",
   "mimetype": "text/x-python",
   "name": "python",
   "nbconvert_exporter": "python",
   "pygments_lexer": "ipython3",
   "version": "3.11.5"
  }
 },
 "nbformat": 4,
 "nbformat_minor": 5
}
