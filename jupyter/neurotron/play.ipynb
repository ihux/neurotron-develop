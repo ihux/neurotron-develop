{
 "cells": [
  {
   "cell_type": "code",
   "execution_count": 8,
   "id": "5db3516a-63fd-4b27-913a-a681549c528f",
   "metadata": {},
   "outputs": [],
   "source": [
    "from neurotron import Terminal,Collab,Excite,Matrix,Field,column,rand,OR,AND\n",
    "import neurotron.math.matrix as mx\n",
    "import neurotron.math.matfun as mf\n"
   ]
  },
  {
   "cell_type": "code",
   "execution_count": 9,
   "id": "dbc52109-9277-47d2-aaf8-88ff4895b2a3",
   "metadata": {},
   "outputs": [
    {
     "name": "stdout",
     "output_type": "stream",
     "text": [
      "K: +-000/0-+-003/3-+-006/6-+-009/9-+-012/C-+-015/F-+-018/I-+\n",
      "   |  12   |  45   |  78   |  AB   |  DE   |  GH   |  JK   |\n",
      "   +-001/1-+-004/4-+-007/7-+-010/A-+-013/D-+-016/G-+-019/J-+\n",
      "   |  02   |  35   |  68   |  9B   |  CE   |  FH   |  IK   |\n",
      "   +-002/2-+-005/5-+-008/8-+-011/B-+-014/E-+-017/H-+-020/K-+\n",
      "   |  01   |  34   |  67   |  9A   |  CD   |  FG   |  IJ   |\n",
      "   +-------+-------+-------+-------+-------+-------+-------+\n",
      "P: +-000/0-+-003/3-+-006/6-+-009/9-+-012/C-+-015/F-+-018/I-+\n",
      "   |  11   |  11   |  11   |  11   |  11   |  11   |  11   |\n",
      "   +-001/1-+-004/4-+-007/7-+-010/A-+-013/D-+-016/G-+-019/J-+\n",
      "   |  11   |  11   |  11   |  11   |  11   |  11   |  11   |\n",
      "   +-002/2-+-005/5-+-008/8-+-011/B-+-014/E-+-017/H-+-020/K-+\n",
      "   |  11   |  11   |  11   |  11   |  11   |  11   |  11   |\n",
      "   +-------+-------+-------+-------+-------+-------+-------+\n",
      "W: +-000/0-+-003/3-+-006/6-+-009/9-+-012/C-+-015/F-+-018/I-+\n",
      "   |  11   |  11   |  11   |  11   |  11   |  11   |  11   |\n",
      "   +-001/1-+-004/4-+-007/7-+-010/A-+-013/D-+-016/G-+-019/J-+\n",
      "   |  11   |  11   |  11   |  11   |  11   |  11   |  11   |\n",
      "   +-002/2-+-005/5-+-008/8-+-011/B-+-014/E-+-017/H-+-020/K-+\n",
      "   |  11   |  11   |  11   |  11   |  11   |  11   |  11   |\n",
      "   +-------+-------+-------+-------+-------+-------+-------+\n"
     ]
    }
   ],
   "source": [
    "collab = Terminal(Collab(3,7,2,5))\n",
    "collab.map()"
   ]
  },
  {
   "cell_type": "code",
   "execution_count": 10,
   "id": "d736f1c7-d91b-4e00-9408-8867b2c1ef71",
   "metadata": {},
   "outputs": [
    {
     "name": "stdout",
     "output_type": "stream",
     "text": [
      "c: [1 0 1 0 0 0 1; 0 0 0 0 0 0 0; 0 0 0 0 0 0 0]\n"
     ]
    },
    {
     "data": {
      "text/plain": [
       "[0 0 0 0 0 0 0; 1 0 1 0 0 0 1; 1 0 1 0 0 0 1]"
      ]
     },
     "execution_count": 10,
     "metadata": {},
     "output_type": "execute_result"
    }
   ],
   "source": [
    "c = Matrix(1,3*7); c[0] = c[2*3] = c[6*3] = 1;print('c:',c.reshape(3,7))\n",
    "collab(c)"
   ]
  },
  {
   "cell_type": "code",
   "execution_count": 11,
   "id": "da947fe0-eff3-47de-9bf7-12672ed0640d",
   "metadata": {},
   "outputs": [
    {
     "name": "stdout",
     "output_type": "stream",
     "text": [
      "K: +-000/0-+-003/3-+-006/6-+-009/9-+-012/C-+-015/F-+-018/I-+\n",
      "   |  12   |  45   |  78   |  AB   |  DE   |  GH   |  JK   |\n",
      "   +-001/1-+-004/4-+-007/7-+-010/A-+-013/D-+-016/G-+-019/J-+\n",
      "   |  02   |  35   |  68   |  9B   |  CE   |  FH   |  IK   |\n",
      "   +-002/2-+-005/5-+-008/8-+-011/B-+-014/E-+-017/H-+-020/K-+\n",
      "   |  01   |  34   |  67   |  9A   |  CD   |  FG   |  IJ   |\n",
      "   +-------+-------+-------+-------+-------+-------+-------+\n",
      "E: +-000/0-+-003/3-+-006/6-+-009/9-+-012/C-+-015/F-+-018/I-+\n",
      "   |  00   |  00   |  00   |  00   |  00   |  00   |  00   |\n",
      "   +-001/1-+-004/4-+-007/7-+-010/A-+-013/D-+-016/G-+-019/J-+\n",
      "   |  10   |  00   |  10   |  00   |  00   |  00   |  10   |\n",
      "   +-002/2-+-005/5-+-008/8-+-011/B-+-014/E-+-017/H-+-020/K-+\n",
      "   |  10   |  00   |  10   |  00   |  00   |  00   |  10   |\n",
      "   +-------+-------+-------+-------+-------+-------+-------+\n"
     ]
    }
   ],
   "source": [
    "collab.K.map('K: ');collab.empower(c).map('E: ')"
   ]
  },
  {
   "cell_type": "code",
   "execution_count": 12,
   "id": "a6111164-c609-428d-8ebb-723744e09277",
   "metadata": {},
   "outputs": [
    {
     "name": "stdout",
     "output_type": "stream",
     "text": [
      "A: [1 2 -1; 0 0 0] \n",
      "A: [1 1 1; 0 0 0]\n"
     ]
    },
    {
     "data": {
      "text/plain": [
       "[0 0 0; 1 1 1]"
      ]
     },
     "execution_count": 12,
     "metadata": {},
     "output_type": "execute_result"
    }
   ],
   "source": [
    "A=Matrix([[1,2,-1],[0,0,0]])\n",
    "print('A:',A,'\\nA:',A!=0)\n",
    "A.N"
   ]
  },
  {
   "cell_type": "code",
   "execution_count": 13,
   "id": "775344f2-3aaa-4b91-ae8c-4b137fe9e46f",
   "metadata": {},
   "outputs": [
    {
     "data": {
      "text/plain": [
       "[0 1 0; 1 0 0]"
      ]
     },
     "execution_count": 13,
     "metadata": {},
     "output_type": "execute_result"
    }
   ],
   "source": [
    "B=mf.MAGIC(3)[:2,:]<=3;B"
   ]
  },
  {
   "cell_type": "code",
   "execution_count": 14,
   "id": "9b380097-84a2-4111-b481-8d6e17335b5d",
   "metadata": {},
   "outputs": [
    {
     "name": "stdout",
     "output_type": "stream",
     "text": [
      "C: [0 1 0; 1 1 0]\n"
     ]
    },
    {
     "data": {
      "text/plain": [
       "([0 1 0], [1 1 0], [0 1 0; 1 1 0])"
      ]
     },
     "execution_count": 14,
     "metadata": {},
     "output_type": "execute_result"
    }
   ],
   "source": [
    "from numpy import array\n",
    "A = Matrix([0,1,0]);  B = Matrix([1,1,0])\n",
    "C=column(A,B); print('C:',C)\n",
    "A,B,C\n"
   ]
  },
  {
   "cell_type": "code",
   "execution_count": 15,
   "id": "adf608b4-c2e6-4304-8888-2af0b9f09045",
   "metadata": {},
   "outputs": [
    {
     "name": "stdout",
     "output_type": "stream",
     "text": [
      "[0 1 0]\n"
     ]
    },
    {
     "data": {
      "text/plain": [
       "([1 1 0], [0 1 0])"
      ]
     },
     "execution_count": 15,
     "metadata": {},
     "output_type": "execute_result"
    }
   ],
   "source": [
    "print(A)\n",
    "OR(A,B),AND(A,B)"
   ]
  },
  {
   "cell_type": "code",
   "execution_count": 16,
   "id": "bf740d94-2159-4dd0-8ed0-7c3db18bae17",
   "metadata": {},
   "outputs": [
    {
     "data": {
      "text/plain": [
       "array([[0., 1., 0.],\n",
       "       [1., 1., 0.]])"
      ]
     },
     "execution_count": 16,
     "metadata": {},
     "output_type": "execute_result"
    }
   ],
   "source": [
    "CC=array(C);CC"
   ]
  },
  {
   "cell_type": "code",
   "execution_count": 17,
   "id": "798ba6c0-37fa-4cfe-9fc3-5047f5c4f7da",
   "metadata": {},
   "outputs": [
    {
     "data": {
      "text/plain": [
       "[1 1 1; 1 1 0]"
      ]
     },
     "execution_count": 17,
     "metadata": {},
     "output_type": "execute_result"
    }
   ],
   "source": [
    "B=Matrix([[1,1,1],[1,1,0]])!=0;B"
   ]
  },
  {
   "cell_type": "code",
   "execution_count": 21,
   "id": "3cdae89d-ee45-46a3-bf60-7c8eb472be89",
   "metadata": {},
   "outputs": [
    {
     "data": {
      "text/plain": [
       "[0.389336 0.858778 0.511452; 0.226765 0.667745 0.482899]"
      ]
     },
     "execution_count": 21,
     "metadata": {},
     "output_type": "execute_result"
    }
   ],
   "source": [
    "M=Matrix(1,3)\n",
    "M[0,0]=all(B[:,0])\n",
    "M[0,1]=all(B[:,1])\n",
    "M[0,2]=all(B[:,2])\n",
    "M\n",
    "rand((2,3))"
   ]
  },
  {
   "cell_type": "code",
   "execution_count": 37,
   "id": "4032db2b-e3aa-4e0c-8726-24679b6add46",
   "metadata": {},
   "outputs": [
    {
     "name": "stdout",
     "output_type": "stream",
     "text": [
      "+-000/0-+-001/1-+-002/2-+\n",
      "|  CKF  |  dTX  |  DVv  |\n",
      "|  CdH  |  fOB  |  uxQ  |\n",
      "+-------+-------+-------+\n",
      "+-000/0-+-001/1-+-002/2-+\n",
      "|  000  |  000  |  DVv  |\n",
      "|  000  |  000  |  uxQ  |\n",
      "+-------+-------+-------+\n",
      "+-000/0-+-001/1-+-002/2-+\n",
      "|  NSX  |  000  |  DVv  |\n",
      "|  ObO  |  000  |  uxQ  |\n",
      "+-------+-------+-------+\n"
     ]
    }
   ],
   "source": [
    "from neurotron import zeros, seed\n",
    "F=Field(1,3,2,3); seed(0)\n",
    "for k in F.range():\n",
    "    F[k]=rand((2,3)); \n",
    "F.vmap()\n",
    "zero=zeros(2,3); zero\n",
    "F[0]=zero; F[1]=zero; F.vmap()\n",
    "F[0]=rand((2,3)); F.vmap()"
   ]
  },
  {
   "cell_type": "code",
   "execution_count": 1,
   "id": "da58a17e-8acc-4434-9edc-92357b4f66dd",
   "metadata": {},
   "outputs": [
    {
     "data": {
      "text/plain": [
       "['Mary', 'likes']"
      ]
     },
     "execution_count": 1,
     "metadata": {},
     "output_type": "execute_result"
    }
   ],
   "source": [
    "'Mary likes'.split()"
   ]
  },
  {
   "cell_type": "code",
   "execution_count": 2,
   "id": "0d0e2e51-fa7d-401a-8acd-db51dbd017b8",
   "metadata": {},
   "outputs": [
    {
     "data": {
      "text/plain": [
       "['Mary']"
      ]
     },
     "execution_count": 2,
     "metadata": {},
     "output_type": "execute_result"
    }
   ],
   "source": [
    "'Mary'.split()"
   ]
  },
  {
   "cell_type": "code",
   "execution_count": null,
   "id": "ece95864-39ab-49c9-b80c-61c1e8ecc61e",
   "metadata": {},
   "outputs": [],
   "source": []
  }
 ],
 "metadata": {
  "kernelspec": {
   "display_name": "Python 3 (ipykernel)",
   "language": "python",
   "name": "python3"
  },
  "language_info": {
   "codemirror_mode": {
    "name": "ipython",
    "version": 3
   },
   "file_extension": ".py",
   "mimetype": "text/x-python",
   "name": "python",
   "nbconvert_exporter": "python",
   "pygments_lexer": "ipython3",
   "version": "3.11.5"
  }
 },
 "nbformat": 4,
 "nbformat_minor": 5
}
