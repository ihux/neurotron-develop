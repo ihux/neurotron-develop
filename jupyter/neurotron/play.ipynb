{
 "cells": [
  {
   "cell_type": "code",
   "execution_count": 42,
   "id": "5db3516a-63fd-4b27-913a-a681549c528f",
   "metadata": {},
   "outputs": [],
   "source": [
    "from neurotron import Terminal,Collab,Excite,Matrix,column\n",
    "import neurotron.matrix as mx"
   ]
  },
  {
   "cell_type": "code",
   "execution_count": 43,
   "id": "dbc52109-9277-47d2-aaf8-88ff4895b2a3",
   "metadata": {},
   "outputs": [
    {
     "name": "stdout",
     "output_type": "stream",
     "text": [
      "K: +-000/0-+-003/3-+-006/6-+-009/9-+-012/C-+-015/F-+-018/I-+\n",
      "   |  12   |  45   |  78   |  AB   |  DE   |  GH   |  JK   |\n",
      "   +-001/1-+-004/4-+-007/7-+-010/A-+-013/D-+-016/G-+-019/J-+\n",
      "   |  02   |  35   |  68   |  9B   |  CE   |  FH   |  IK   |\n",
      "   +-002/2-+-005/5-+-008/8-+-011/B-+-014/E-+-017/H-+-020/K-+\n",
      "   |  01   |  34   |  67   |  9A   |  CD   |  FG   |  IJ   |\n",
      "   +-------+-------+-------+-------+-------+-------+-------+\n",
      "P: +-000/0-+-003/3-+-006/6-+-009/9-+-012/C-+-015/F-+-018/I-+\n",
      "   |  11   |  11   |  11   |  11   |  11   |  11   |  11   |\n",
      "   +-001/1-+-004/4-+-007/7-+-010/A-+-013/D-+-016/G-+-019/J-+\n",
      "   |  11   |  11   |  11   |  11   |  11   |  11   |  11   |\n",
      "   +-002/2-+-005/5-+-008/8-+-011/B-+-014/E-+-017/H-+-020/K-+\n",
      "   |  11   |  11   |  11   |  11   |  11   |  11   |  11   |\n",
      "   +-------+-------+-------+-------+-------+-------+-------+\n",
      "W: +-000/0-+-003/3-+-006/6-+-009/9-+-012/C-+-015/F-+-018/I-+\n",
      "   |  11   |  11   |  11   |  11   |  11   |  11   |  11   |\n",
      "   +-001/1-+-004/4-+-007/7-+-010/A-+-013/D-+-016/G-+-019/J-+\n",
      "   |  11   |  11   |  11   |  11   |  11   |  11   |  11   |\n",
      "   +-002/2-+-005/5-+-008/8-+-011/B-+-014/E-+-017/H-+-020/K-+\n",
      "   |  11   |  11   |  11   |  11   |  11   |  11   |  11   |\n",
      "   +-------+-------+-------+-------+-------+-------+-------+\n"
     ]
    }
   ],
   "source": [
    "collab = Terminal(Collab(3,7,2,5))\n",
    "collab.map()"
   ]
  },
  {
   "cell_type": "code",
   "execution_count": 44,
   "id": "d736f1c7-d91b-4e00-9408-8867b2c1ef71",
   "metadata": {},
   "outputs": [
    {
     "name": "stdout",
     "output_type": "stream",
     "text": [
      "c: [1 0 1 0 0 0 1; 0 0 0 0 0 0 0; 0 0 0 0 0 0 0]\n"
     ]
    },
    {
     "data": {
      "text/plain": [
       "[0 0 0 0 0 0 0; 1 0 1 0 0 0 1; 1 0 1 0 0 0 1]"
      ]
     },
     "execution_count": 44,
     "metadata": {},
     "output_type": "execute_result"
    }
   ],
   "source": [
    "c = Matrix(1,3*7); c[0] = c[2*3] = c[6*3] = 1;print('c:',c.reshape(3,7))\n",
    "collab(c)"
   ]
  },
  {
   "cell_type": "code",
   "execution_count": 45,
   "id": "da947fe0-eff3-47de-9bf7-12672ed0640d",
   "metadata": {},
   "outputs": [
    {
     "name": "stdout",
     "output_type": "stream",
     "text": [
      "K: +-000/0-+-003/3-+-006/6-+-009/9-+-012/C-+-015/F-+-018/I-+\n",
      "   |  12   |  45   |  78   |  AB   |  DE   |  GH   |  JK   |\n",
      "   +-001/1-+-004/4-+-007/7-+-010/A-+-013/D-+-016/G-+-019/J-+\n",
      "   |  02   |  35   |  68   |  9B   |  CE   |  FH   |  IK   |\n",
      "   +-002/2-+-005/5-+-008/8-+-011/B-+-014/E-+-017/H-+-020/K-+\n",
      "   |  01   |  34   |  67   |  9A   |  CD   |  FG   |  IJ   |\n",
      "   +-------+-------+-------+-------+-------+-------+-------+\n",
      "E: +-000/0-+-003/3-+-006/6-+-009/9-+-012/C-+-015/F-+-018/I-+\n",
      "   |  00   |  00   |  00   |  00   |  00   |  00   |  00   |\n",
      "   +-001/1-+-004/4-+-007/7-+-010/A-+-013/D-+-016/G-+-019/J-+\n",
      "   |  10   |  00   |  10   |  00   |  00   |  00   |  10   |\n",
      "   +-002/2-+-005/5-+-008/8-+-011/B-+-014/E-+-017/H-+-020/K-+\n",
      "   |  10   |  00   |  10   |  00   |  00   |  00   |  10   |\n",
      "   +-------+-------+-------+-------+-------+-------+-------+\n"
     ]
    }
   ],
   "source": [
    "collab.K.map('K: ');collab.empower(c).map('E: ')"
   ]
  },
  {
   "cell_type": "code",
   "execution_count": 46,
   "id": "a6111164-c609-428d-8ebb-723744e09277",
   "metadata": {},
   "outputs": [
    {
     "name": "stdout",
     "output_type": "stream",
     "text": [
      "A: [1 2 -1; 0 0 0] \n",
      "A: [1 1 1; 0 0 0]\n"
     ]
    },
    {
     "data": {
      "text/plain": [
       "[0 0 0; 1 1 1]"
      ]
     },
     "execution_count": 46,
     "metadata": {},
     "output_type": "execute_result"
    }
   ],
   "source": [
    "A=Matrix([[1,2,-1],[0,0,0]])\n",
    "print('A:',A,'\\nA:',A!=0)\n",
    "A.N"
   ]
  },
  {
   "cell_type": "code",
   "execution_count": 47,
   "id": "775344f2-3aaa-4b91-ae8c-4b137fe9e46f",
   "metadata": {},
   "outputs": [
    {
     "data": {
      "text/plain": [
       "[0 1 0; 1 0 0]"
      ]
     },
     "execution_count": 47,
     "metadata": {},
     "output_type": "execute_result"
    }
   ],
   "source": [
    "B=mx.magic(3)[:2,:]<=3;B"
   ]
  },
  {
   "cell_type": "code",
   "execution_count": 54,
   "id": "9b380097-84a2-4111-b481-8d6e17335b5d",
   "metadata": {},
   "outputs": [
    {
     "name": "stdout",
     "output_type": "stream",
     "text": [
      "C: [0 1 0; 1 1 0]\n"
     ]
    },
    {
     "data": {
      "text/plain": [
       "([0 1 0], [1 1 0], [0 1 0; 1 1 0])"
      ]
     },
     "execution_count": 54,
     "metadata": {},
     "output_type": "execute_result"
    }
   ],
   "source": [
    "from numpy import array\n",
    "A = Matrix([0,1,0]);  B = Matrix([1,1,0])\n",
    "C=column(A,B); print('C:',C)\n",
    "A,B,C\n"
   ]
  },
  {
   "cell_type": "code",
   "execution_count": 49,
   "id": "405fe583-0f98-48ab-b0ca-06be93befebd",
   "metadata": {},
   "outputs": [
    {
     "data": {
      "text/plain": [
       "[0 1 0]"
      ]
     },
     "execution_count": 49,
     "metadata": {},
     "output_type": "execute_result"
    }
   ],
   "source": [
    "def AND(x,y):\n",
    "    return x*y\n",
    "AND(A,B)"
   ]
  },
  {
   "cell_type": "code",
   "execution_count": 50,
   "id": "96db843b-6f7b-453c-a817-9facd770964d",
   "metadata": {},
   "outputs": [],
   "source": [
    "def AND(x,y):\n",
    "    return x*y\n",
    "def OR(x,y):\n",
    "    return mx.max(1,(x>0)+(y>0))\n"
   ]
  },
  {
   "cell_type": "code",
   "execution_count": 53,
   "id": "adf608b4-c2e6-4304-8888-2af0b9f09045",
   "metadata": {},
   "outputs": [
    {
     "name": "stdout",
     "output_type": "stream",
     "text": [
      "C: [0 1 0; 1 1 0]\n"
     ]
    },
    {
     "data": {
      "text/plain": [
       "([1 1 1], [0 1 0])"
      ]
     },
     "execution_count": 53,
     "metadata": {},
     "output_type": "execute_result"
    }
   ],
   "source": [
    "OR(A,B),AND(A,B)"
   ]
  },
  {
   "cell_type": "code",
   "execution_count": 59,
   "id": "bf740d94-2159-4dd0-8ed0-7c3db18bae17",
   "metadata": {},
   "outputs": [
    {
     "data": {
      "text/plain": [
       "array([[0., 1., 0.],\n",
       "       [1., 1., 0.]])"
      ]
     },
     "execution_count": 59,
     "metadata": {},
     "output_type": "execute_result"
    }
   ],
   "source": [
    "CC=array(C);CC"
   ]
  },
  {
   "cell_type": "code",
   "execution_count": 68,
   "id": "798ba6c0-37fa-4cfe-9fc3-5047f5c4f7da",
   "metadata": {},
   "outputs": [
    {
     "data": {
      "text/plain": [
       "[1 1 1; 1 1 0]"
      ]
     },
     "execution_count": 68,
     "metadata": {},
     "output_type": "execute_result"
    }
   ],
   "source": [
    "B=Matrix([[1,1,1],[1,1,0]])!=0;B"
   ]
  },
  {
   "cell_type": "code",
   "execution_count": 77,
   "id": "3cdae89d-ee45-46a3-bf60-7c8eb472be89",
   "metadata": {},
   "outputs": [
    {
     "data": {
      "text/plain": [
       "[1 1 0]"
      ]
     },
     "execution_count": 77,
     "metadata": {},
     "output_type": "execute_result"
    }
   ],
   "source": [
    "M=Matrix(1,3)\n",
    "M[0,0]=all(B[:,0])\n",
    "M[0,1]=all(B[:,1])\n",
    "M[0,2]=all(B[:,2])\n",
    "M"
   ]
  },
  {
   "cell_type": "code",
   "execution_count": null,
   "id": "4032db2b-e3aa-4e0c-8726-24679b6add46",
   "metadata": {},
   "outputs": [],
   "source": []
  }
 ],
 "metadata": {
  "kernelspec": {
   "display_name": "Python 3 (ipykernel)",
   "language": "python",
   "name": "python3"
  },
  "language_info": {
   "codemirror_mode": {
    "name": "ipython",
    "version": 3
   },
   "file_extension": ".py",
   "mimetype": "text/x-python",
   "name": "python",
   "nbconvert_exporter": "python",
   "pygments_lexer": "ipython3",
   "version": "3.11.5"
  }
 },
 "nbformat": 4,
 "nbformat_minor": 5
}
