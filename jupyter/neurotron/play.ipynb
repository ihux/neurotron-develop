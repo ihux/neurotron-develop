{
 "cells": [
  {
   "cell_type": "code",
   "execution_count": 16,
   "id": "95a00926-0890-47f6-a822-e39a7ceedb55",
   "metadata": {},
   "outputs": [],
   "source": [
    "from neurotron import Matrix, Excite, isa, magic"
   ]
  },
  {
   "cell_type": "code",
   "execution_count": 17,
   "id": "8a976aff-bd66-4021-b164-e7a7a8ab4ff3",
   "metadata": {},
   "outputs": [
    {
     "name": "stdout",
     "output_type": "stream",
     "text": [
      "Excite(1,3)\n"
     ]
    }
   ],
   "source": [
    "token = {'Mary':[1,0,0,0,1], 'John':[0,1,0,0,1], 'likes':[0,0,1,0,1]}\n",
    "excite = Excite(1,3); print(excite)"
   ]
  },
  {
   "cell_type": "code",
   "execution_count": 18,
   "id": "44e9e909-16be-4128-a131-458679d54878",
   "metadata": {},
   "outputs": [
    {
     "data": {
      "text/plain": [
       "2"
      ]
     },
     "execution_count": 18,
     "metadata": {},
     "output_type": "execute_result"
    }
   ],
   "source": [
    "N=max([sum(token[key]) for key in token])\n",
    "N"
   ]
  },
  {
   "cell_type": "code",
   "execution_count": 28,
   "id": "a18ceab1-acfe-4049-8f35-a02a12a98ec7",
   "metadata": {},
   "outputs": [
    {
     "data": {
      "text/plain": [
       "[0 1 2 3; 5 11 10 8; 9 7 6 12; 4 14 15 1]"
      ]
     },
     "execution_count": 28,
     "metadata": {},
     "output_type": "execute_result"
    }
   ],
   "source": [
    "M=magic(4)\n",
    "M[0,:4]=Matrix(range(4));M"
   ]
  },
  {
   "cell_type": "code",
   "execution_count": 30,
   "id": "a714de10-fe13-47ed-aad5-d61f5347e976",
   "metadata": {},
   "outputs": [
    {
     "data": {
      "text/plain": [
       "[0 5 2 3; 5 6 10 8; 9 7 6 12; 4 8 15 1]"
      ]
     },
     "execution_count": 30,
     "metadata": {},
     "output_type": "execute_result"
    }
   ],
   "source": [
    "M[:4,1]= 5+Matrix(range(4)).T;M\n"
   ]
  },
  {
   "cell_type": "code",
   "execution_count": null,
   "id": "5db3516a-63fd-4b27-913a-a681549c528f",
   "metadata": {},
   "outputs": [],
   "source": []
  },
  {
   "cell_type": "code",
   "execution_count": null,
   "id": "dbc52109-9277-47d2-aaf8-88ff4895b2a3",
   "metadata": {},
   "outputs": [],
   "source": []
  }
 ],
 "metadata": {
  "kernelspec": {
   "display_name": "Python 3 (ipykernel)",
   "language": "python",
   "name": "python3"
  },
  "language_info": {
   "codemirror_mode": {
    "name": "ipython",
    "version": 3
   },
   "file_extension": ".py",
   "mimetype": "text/x-python",
   "name": "python",
   "nbconvert_exporter": "python",
   "pygments_lexer": "ipython3",
   "version": "3.11.5"
  }
 },
 "nbformat": 4,
 "nbformat_minor": 5
}
