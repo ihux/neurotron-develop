{
 "cells": [
  {
   "cell_type": "code",
   "execution_count": 19,
   "id": "c1380b1d-6814-44b8-bb8c-47c3b5a2c41e",
   "metadata": {},
   "outputs": [],
   "source": [
    "# Sarah loves music (incorporating collaboration)\n",
    "\n",
    "from neurotron import Token, Toy, Cells, Train, Terminal"
   ]
  },
  {
   "cell_type": "code",
   "execution_count": 20,
   "id": "c254ca65-53c2-4976-98d3-df218f1eecf7",
   "metadata": {},
   "outputs": [],
   "source": [
    "# To get help on classes Token, Toy, Cells, Train uncomment the appropriate line below:\n",
    "#help(Token)\n",
    "#help(Toy)\n",
    "#help(Cells)\n",
    "#help(Train)"
   ]
  },
  {
   "cell_type": "code",
   "execution_count": 21,
   "id": "26a7b621-dc58-4c12-8847-d0bf291ba024",
   "metadata": {},
   "outputs": [
    {
     "name": "stdout",
     "output_type": "stream",
     "text": [
      "Token({\n",
      "  'Sarah': [1, 1, 0, 1, 1, 1, 0, 1, 0, 1],\n",
      "  'loves': [0, 1, 1, 1, 0, 1, 1, 0, 1, 1],\n",
      "  'music': [1, 1, 1, 0, 0, 1, 0, 1, 1, 1],\n",
      "  '.': [0, 0, 0, 0, 0, 0, 0, 0, 0, 0],\n",
      "})\n"
     ]
    }
   ],
   "source": [
    "# Create a Tokenizer\n",
    "\n",
    "token = Token({'Sarah':[1,1,0,1,1,1,0,1,0,1], \n",
    "               'loves':[0,1,1,1,0,1,1,0,1,1],\n",
    "               'music':[1,1,1,0,0,1,0,1,1,1],\n",
    "               '.':    [0,0,0,0,0,0,0,0,0,0]})\n",
    "\n",
    "# A simpler way would be to consult the Toy class:\n",
    "\n",
    "token = Toy('Sarah').token\n",
    "print(token)"
   ]
  },
  {
   "cell_type": "code",
   "execution_count": 22,
   "id": "f057613b-9083-44c7-b140-8ec4dd271725",
   "metadata": {},
   "outputs": [
    {
     "name": "stdout",
     "output_type": "stream",
     "text": [
      "Token({\n",
      "  'Sarah': [1, 1, 0, 1, 1, 1, 0, 1, 0, 1],\n",
      "  'loves': [0, 1, 1, 1, 0, 1, 1, 0, 1, 1],\n",
      "  'music': [1, 1, 1, 0, 0, 1, 0, 1, 1, 1],\n",
      "  '.': [0, 0, 0, 0, 0, 0, 0, 0, 0, 0],\n",
      "})\n",
      "Sarah\n",
      "loves\n",
      "music\n"
     ]
    }
   ],
   "source": [
    "# The Token class provides a method for decoding tokens\n",
    "print(token)\n",
    "print(token.decode([1,1,0,1,1,1,0,1,0,1]))  # token for 'Sarah'\n",
    "print(token.decode([0,1,1,1,0,1,1,0,1,1]))  # token for 'loves'\n",
    "print(token.decode([1,1,1,0,0,1,0,1,1,1]))  # token for 'music' "
   ]
  },
  {
   "cell_type": "code",
   "execution_count": 23,
   "id": "bc99beb6-6eca-4855-a167-79661f191652",
   "metadata": {},
   "outputs": [
    {
     "name": "stdout",
     "output_type": "stream",
     "text": [
      "['loves', 'music', '.']\n"
     ]
    }
   ],
   "source": [
    "# if ambiguous patterns are presented to the decoder, it returns a tuple of all tokens which might\n",
    "# be represented by the given pattern.\n",
    "\n",
    "print(token.decode([1,1,1,1,0,1,1,1,1,1]))  # union of token 'loves', 'music' "
   ]
  },
  {
   "cell_type": "code",
   "execution_count": 24,
   "id": "fd7ca0b8-de56-4da5-9826-2e017dc6ac67",
   "metadata": {},
   "outputs": [
    {
     "name": "stdout",
     "output_type": "stream",
     "text": [
      "|-|-|-|\n",
      "eta: 0.5 , theta: 7 , delta: (0.1, 0.1)\n",
      "K: +--000/0---+--001/1---+--002/2---+\n",
      "   |0123456789|0123456789|0123456789|\n",
      "   +----------+----------+----------+\n",
      "P: None\n",
      "W: +--000/0---+--001/1---+--002/2---+\n",
      "   |1101110101|0111011011|1110010111|\n",
      "   +----------+----------+----------+\n"
     ]
    },
    {
     "data": {
      "text/plain": [
       "[0 0 1]"
      ]
     },
     "execution_count": 24,
     "metadata": {},
     "output_type": "execute_result"
    }
   ],
   "source": [
    "# Enough about tokens! Let's create a 1 x 3 cell cluster (3 neurotron cells)\n",
    "\n",
    "m = 1  # number of cluster rows\n",
    "n = 3  # number of cluster columns\n",
    "d = 1  # number of detectors per terminal\n",
    "s = 3  # number of synapses per detector\n",
    "\n",
    "shape = (m,n,d,s)\n",
    "cells = Cells(shape,token)\n",
    "\n",
    "# Employing the Toy class our cell cluster could be setup as a two-liner:\n",
    "\n",
    "toy = Toy('Sarah')\n",
    "cells = Cells(toy.shape,toy.token)\n",
    "\n",
    "# we have eight (binary) states per cell:\n",
    "# - U: stimulation state  (blue)\n",
    "# - Q: excitation state   (violet)\n",
    "# - D: depression state   (dark gray)\n",
    "# - B: bursts state       (orange)\n",
    "# - X: prediction state   (green)\n",
    "# - Y: activation state   (red)\n",
    "# - S: spiking state      (white)\n",
    "# - L: learning state     (yellow)\n",
    "\n",
    "# initially none of these states are activated\n",
    "\n",
    "from neurotron import Excite\n",
    "print(cells)\n",
    "excite = Excite(*shape,token)\n",
    "cells._excite = Terminal(Excite(*shape,token))\n",
    "cells._excite.map()\n",
    "cells._excite(token['music'])"
   ]
  },
  {
   "cell_type": "code",
   "execution_count": 25,
   "id": "7f244b65-453f-47e0-a8b2-e23fb2f813a6",
   "metadata": {},
   "outputs": [
    {
     "name": "stdout",
     "output_type": "stream",
     "text": [
      "\n",
      "\n"
     ]
    },
    {
     "data": {
      "text/plain": [
       "{'1101110101': 'Sarah',\n",
       " '0111011011': 'loves',\n",
       " '1110010111': 'music',\n",
       " '0000000000': '.',\n",
       " '110': 'Sarah',\n",
       " '011': 'loves',\n",
       " '111': 'music',\n",
       " '000': '.'}"
      ]
     },
     "execution_count": 25,
     "metadata": {},
     "output_type": "execute_result"
    }
   ],
   "source": [
    "# Our network has a pooler which maps from B^10 to B^3.\n",
    "# So we have to pimp our token decoder in order that it recognices also\n",
    "# patterns from B^3\n",
    "\n",
    "#cells._excite = Terminal(Excite(1,3,1,10,token))\n",
    "#token.pimp(cells._excite)\n",
    "\n",
    "#print(cells.token._decoder['100'])\n",
    "print(cells.token.decode([0,1,0]))\n",
    "print(cells.token.decode([0,0,1]))\n",
    "cells.token.decode()"
   ]
  },
  {
   "cell_type": "code",
   "execution_count": 26,
   "id": "01795663-b96e-4a20-9e60-db130480f530",
   "metadata": {},
   "outputs": [
    {
     "name": "stdout",
     "output_type": "stream",
     "text": [
      "|XDS|UQLDBYS|US|\n"
     ]
    }
   ],
   "source": [
    "# States can be accessed as 1-dimensional arrays or 2-dimensional matrices\n",
    "# E.g.: cells.X[i,j] = cells.X[k] with k = m*j + i\n",
    "# Let us set some states:\n",
    "\n",
    "    # cell [0] or [0,0]\n",
    "\n",
    "cells.X[0,0] = 1     # cell [0] or [0,0]\n",
    "cells.S[0] = 1\n",
    "cells.D[0] = 1\n",
    "\n",
    "    # cell [2] or [0,2]\n",
    "\n",
    "cells.U[1] = 1\n",
    "cells.Q[1] = 1      # hides U state in the display\n",
    "cells.Y[1] = 1\n",
    "cells.S[1] = 1\n",
    "cells.L[1] = 1      # hides S state in the display\n",
    "cells.D[1] = 1\n",
    "cells.B[1] = 1      # hides D state in the display\n",
    "\n",
    "    # cell [2] or [0,2]\n",
    "\n",
    "cells.U[2] = 1\n",
    "cells.S[2] = 1\n",
    "\n",
    "\n",
    "# Let us display the cell cluster's states. \n",
    "\n",
    "print(cells)"
   ]
  },
  {
   "cell_type": "code",
   "execution_count": 27,
   "id": "a11ebc1f-88d3-4efc-a557-055ea502d3ee",
   "metadata": {},
   "outputs": [
    {
     "data": {
      "image/png": "[encoded data removed]",
      "text/plain": [
       "<Figure size 640x480 with 1 Axes>"
      ]
     },
     "metadata": {},
     "output_type": "display_data"
    }
   ],
   "source": [
    "# Now Let us plot the cell cluster's states. \n",
    "# Only 5 states per cell are displayed (to present state info as compact as possible). \n",
    "# This means that states U,S,D might be potentially hidden when displayed, if states Q,L,B \n",
    "# are set (have logical value 1):\n",
    "# - Q hides U\n",
    "# - L hides S\n",
    "# - B hides D\n",
    "# mind: the state values are not actually over written, it is only a matter of (compact) plotting\n",
    "\n",
    "title = token.decode(cells.Y)\n",
    "cells.plot(title)\n"
   ]
  },
  {
   "cell_type": "code",
   "execution_count": null,
   "id": "3013bf7e-01e7-4be8-8481-21c840bcff58",
   "metadata": {},
   "outputs": [],
   "source": []
  },
  {
   "cell_type": "code",
   "execution_count": null,
   "id": "78378176-c143-412a-91cb-d4a95c8893e5",
   "metadata": {},
   "outputs": [],
   "source": []
  },
  {
   "cell_type": "code",
   "execution_count": null,
   "id": "5e32fe25-f84e-47fe-b273-dd5933f31dd6",
   "metadata": {},
   "outputs": [],
   "source": []
  },
  {
   "cell_type": "code",
   "execution_count": null,
   "id": "7afc3147-b0da-400e-93c7-77bf1675f9f6",
   "metadata": {},
   "outputs": [],
   "source": []
  },
  {
   "cell_type": "code",
   "execution_count": null,
   "id": "e03faa70-743f-4825-9381-10b6d591f28a",
   "metadata": {},
   "outputs": [],
   "source": []
  },
  {
   "cell_type": "code",
   "execution_count": null,
   "id": "2a978c5f-3756-4d05-85f9-201258d92e33",
   "metadata": {},
   "outputs": [],
   "source": []
  }
 ],
 "metadata": {
  "kernelspec": {
   "display_name": "Python 3 (ipykernel)",
   "language": "python",
   "name": "python3"
  },
  "language_info": {
   "codemirror_mode": {
    "name": "ipython",
    "version": 3
   },
   "file_extension": ".py",
   "mimetype": "text/x-python",
   "name": "python",
   "nbconvert_exporter": "python",
   "pygments_lexer": "ipython3",
   "version": "3.11.5"
  }
 },
 "nbformat": 4,
 "nbformat_minor": 5
}
