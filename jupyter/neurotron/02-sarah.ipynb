{
 "cells": [
  {
   "cell_type": "code",
   "execution_count": 1,
   "id": "c1380b1d-6814-44b8-bb8c-47c3b5a2c41e",
   "metadata": {},
   "outputs": [],
   "source": [
    "# Sarah loves music (incorporating collaboration)\n",
    "\n",
    "from neurotron import Token, Toy, Cells, Train, Terminal"
   ]
  },
  {
   "cell_type": "code",
   "execution_count": 2,
   "id": "c254ca65-53c2-4976-98d3-df218f1eecf7",
   "metadata": {},
   "outputs": [],
   "source": [
    "# To get help on classes Token, Toy, Cells, Train uncomment the appropriate line below:\n",
    "#help(Token)\n",
    "#help(Toy)\n",
    "#help(Cells)\n",
    "#help(Train)"
   ]
  },
  {
   "cell_type": "code",
   "execution_count": 3,
   "id": "26a7b621-dc58-4c12-8847-d0bf291ba024",
   "metadata": {},
   "outputs": [
    {
     "name": "stdout",
     "output_type": "stream",
     "text": [
      "{'Sarah': [1, 1, 0, 1, 1, 1, 0, 1, 0, 1], 'loves': [0, 1, 1, 1, 0, 1, 1, 0, 1, 1], 'music': [1, 1, 1, 0, 0, 1, 0, 1, 1, 1], '.': [0, 0, 0, 0, 0, 0, 0, 0, 0, 0]}\n"
     ]
    }
   ],
   "source": [
    "# Create a Tokenizer\n",
    "\n",
    "token = Token({'Sarah':[1,1,0,1,1,1,0,1,0,1], \n",
    "               'loves':[1,0,1,1,0,1,1,0,1,1],\n",
    "               'music':[0,0,1,0,0,1,1,1,1,1],\n",
    "               '.':    [0,0,0,0,0,0,0,0,0,0]})\n",
    "\n",
    "# A simpler way would be to consult the Toy class:\n",
    "\n",
    "token = Toy('Sarah').token\n",
    "print(token)"
   ]
  },
  {
   "cell_type": "code",
   "execution_count": 4,
   "id": "f057613b-9083-44c7-b140-8ec4dd271725",
   "metadata": {},
   "outputs": [
    {
     "name": "stdout",
     "output_type": "stream",
     "text": [
      "{'Sarah': [1, 1, 0, 1, 1, 1, 0, 1, 0, 1], 'loves': [0, 1, 1, 1, 0, 1, 1, 0, 1, 1], 'music': [1, 1, 1, 0, 0, 1, 0, 1, 1, 1], '.': [0, 0, 0, 0, 0, 0, 0, 0, 0, 0]}\n",
      "Sarah\n",
      ".\n",
      ".\n"
     ]
    }
   ],
   "source": [
    "# The Token class provides a method for decoding tokens\n",
    "print(token)\n",
    "print(token.decode([1,1,0,1,1,1,0,1,0,1]))  # token for 'Sarah'\n",
    "print(token.decode([1,0,1,1,0,1,1,0,1,1]))  # token for 'loves'\n",
    "print(token.decode([0,0,1,0,0,1,1,1,1,1]))  # token for 'loves' "
   ]
  },
  {
   "cell_type": "code",
   "execution_count": 5,
   "id": "2a8cc2ff-b468-4ba7-adf4-5d26b8452c55",
   "metadata": {},
   "outputs": [
    {
     "name": "stdout",
     "output_type": "stream",
     "text": [
      "### l < d: 0 1\n",
      "### l < d: 0 1\n",
      "### l < d: 0 1\n",
      "eta: 0.5 , theta: 7 , delta: (0.1, 0.1)\n",
      "K: +--000/0---+--001/1---+--002/2---+\n",
      "   |0123456789|0123456789|0123456789|\n",
      "   +----------+----------+----------+\n",
      "P: None\n",
      "W: +--000/0---+--001/1---+--002/2---+\n",
      "   |1101110101|0111011011|1110010111|\n",
      "   +----------+----------+----------+\n",
      "[1, 1, 0, 1, 1, 1, 0, 1, 0, 1]\n",
      "key: Sarah code: 100\n",
      "key: loves code: 010\n",
      "key: music code: 001\n",
      "key: . code: 000\n"
     ]
    },
    {
     "data": {
      "text/plain": [
       "('Sarah', '', '')"
      ]
     },
     "execution_count": 5,
     "metadata": {},
     "output_type": "execute_result"
    }
   ],
   "source": [
    "from neurotron import Excite, Terminal\n",
    "excite=Terminal(Excite(1,3,1,10,token))\n",
    "excite.map()\n",
    "c = token['Sarah']; print(c)\n",
    "excite(c)\n",
    "token._decoder\n",
    "token.pattern(excite(token['Sarah']))\n",
    "token._decoder['110'] = 'Sarah'\n",
    "token.decode([1,1,0])\n",
    "\n",
    "def pimp(token,excite):\n",
    "    for key in token:\n",
    "        code = token.pattern(excite(token[key]))\n",
    "        print('key:',key,'code:',code)\n",
    "        token._decoder[code] = key\n",
    "\n",
    "pimp(token,excite)\n",
    "token._decoder\n",
    "(token.decode([1,1,0]),token.decode([0,1,1]),token.decode([1,0,1]))"
   ]
  },
  {
   "cell_type": "code",
   "execution_count": 6,
   "id": "bc99beb6-6eca-4855-a167-79661f191652",
   "metadata": {},
   "outputs": [
    {
     "name": "stdout",
     "output_type": "stream",
     "text": [
      "['loves', 'music', '.']\n"
     ]
    }
   ],
   "source": [
    "# if ambiguous patterns are presented to the decoder, it returns a tuple of all tokens which might\n",
    "# be represented by the given pattern.\n",
    "\n",
    "print(token.decode([1,1,1,1,0,1,1,1,1,1]))  # union of token 'loves', 'music' "
   ]
  },
  {
   "cell_type": "code",
   "execution_count": 7,
   "id": "fd7ca0b8-de56-4da5-9826-2e017dc6ac67",
   "metadata": {},
   "outputs": [
    {
     "name": "stdout",
     "output_type": "stream",
     "text": [
      "|-|-|-|\n"
     ]
    }
   ],
   "source": [
    "# Enough about tokens! Let's create a 1 x 3 cell cluster (3 neurotron cells)\n",
    "\n",
    "m = 1  # number of cluster rows\n",
    "n = 3  # number of cluster columns\n",
    "d = 1  # number of detectors per terminal\n",
    "s = 3  # number of synapses per detector\n",
    "\n",
    "shape = (m,n,d,s)\n",
    "cells = Cells(shape,token)\n",
    "\n",
    "# Employing the Toy class our cell cluster could be setup as a two-liner:\n",
    "\n",
    "toy = Toy('Sarah')\n",
    "cells = Cells(toy.shape,toy.token)\n",
    "\n",
    "# we have eight (binary) states per cell:\n",
    "# - U: stimulation state  (blue)\n",
    "# - Q: excitation state   (violet)\n",
    "# - D: depression state   (dark gray)\n",
    "# - B: bursts state       (orange)\n",
    "# - X: prediction state   (green)\n",
    "# - Y: activation state   (red)\n",
    "# - S: spiking state      (white)\n",
    "# - L: learning state     (yellow)\n",
    "\n",
    "# initially none of these states are activated\n",
    "\n",
    "print(cells)"
   ]
  },
  {
   "cell_type": "code",
   "execution_count": 8,
   "id": "01795663-b96e-4a20-9e60-db130480f530",
   "metadata": {},
   "outputs": [
    {
     "name": "stdout",
     "output_type": "stream",
     "text": [
      "|UXDYS|QS|UQXLDBYS|\n"
     ]
    }
   ],
   "source": [
    "# States can be accessed as 1-dimensional arrays or 2-dimensional matrices\n",
    "# E.g.: cells.X[i,j] = cells.X[k] with k = m*j + i\n",
    "# Let us set some states:\n",
    "\n",
    "    # cell [0] or [0,0]\n",
    "\n",
    "cells.U[0,0] = 1     # cell [0] or [0,0]\n",
    "cells.X[0] = 1\n",
    "cells.Y[0] = 1\n",
    "cells.S[0] = 1\n",
    "cells.D[0] = 1\n",
    "\n",
    "    # cell [1] or [0,1]\n",
    "\n",
    "cells.Q[1] = 1     \n",
    "cells.S[1] = 1\n",
    "\n",
    "    # cell [2] or [0,2]\n",
    "\n",
    "cells.U[2] = 1\n",
    "cells.Q[2] = 1      # hides U state in the display\n",
    "cells.X[2] = 1\n",
    "cells.Y[2] = 1\n",
    "cells.S[2] = 1\n",
    "cells.L[2] = 1      # hides S state in the display\n",
    "cells.D[2] = 1\n",
    "cells.B[2] = 1      # hides D state in the display\n",
    "\n",
    "# Let us display the cell cluster's states. \n",
    "\n",
    "print(cells)"
   ]
  },
  {
   "cell_type": "code",
   "execution_count": 9,
   "id": "a11ebc1f-88d3-4efc-a557-055ea502d3ee",
   "metadata": {},
   "outputs": [
    {
     "data": {
      "text/plain": [
       "''"
      ]
     },
     "execution_count": 9,
     "metadata": {},
     "output_type": "execute_result"
    }
   ],
   "source": [
    "# Now Let us plot the cell cluster's states. \n",
    "# Only 5 states per cell are displayed (to present state info as compact as possible). \n",
    "# This means that states U,S,D might be potentially hidden when displayed, if states Q,L,B \n",
    "# are set (have logical value 1):\n",
    "# - Q hides U\n",
    "# - L hides S\n",
    "# - B hides D\n",
    "# mind: the state values are not actually over written, it is only a matter of (compact) plotting\n",
    "\n",
    "cells.token.decode(cells.Y)\n",
    "#cells.plot()"
   ]
  },
  {
   "cell_type": "code",
   "execution_count": 10,
   "id": "81c7c103-17fa-4143-acec-ac0e174a1866",
   "metadata": {},
   "outputs": [
    {
     "ename": "TypeError",
     "evalue": "'Toy' object is not callable",
     "output_type": "error",
     "traceback": [
      "\u001b[0;31m---------------------------------------------------------------------------\u001b[0m",
      "\u001b[0;31mTypeError\u001b[0m                                 Traceback (most recent call last)",
      "Cell \u001b[0;32mIn[10], line 4\u001b[0m\n\u001b[1;32m      1\u001b[0m \u001b[38;5;66;03m#===========================================================================\u001b[39;00m\n\u001b[1;32m      2\u001b[0m \u001b[38;5;66;03m# Secario 2: No predictive cells \u001b[39;00m\n\u001b[1;32m      3\u001b[0m \u001b[38;5;66;03m#===========================================================================\u001b[39;00m\n\u001b[0;32m----> 4\u001b[0m par,token \u001b[38;5;241m=\u001b[39m toy(\u001b[38;5;124m'\u001b[39m\u001b[38;5;124msarah\u001b[39m\u001b[38;5;124m'\u001b[39m);  epar,cpar,ppar,dyn \u001b[38;5;241m=\u001b[39m par\n\u001b[1;32m      5\u001b[0m epar\u001b[38;5;241m.\u001b[39mp[\u001b[38;5;241m2\u001b[39m] \u001b[38;5;241m=\u001b[39m epar\u001b[38;5;241m.\u001b[39mp[\u001b[38;5;241m1\u001b[39m] \u001b[38;5;241m=\u001b[39m epar\u001b[38;5;241m.\u001b[39mp[\u001b[38;5;241m0\u001b[39m]             \u001b[38;5;66;03m# overwrite => all the same\u001b[39;00m\n\u001b[1;32m      6\u001b[0m ppar\u001b[38;5;241m.\u001b[39mP[\u001b[38;5;241m2\u001b[39m][\u001b[38;5;241m0\u001b[39m] \u001b[38;5;241m=\u001b[39m ppar\u001b[38;5;241m.\u001b[39mP[\u001b[38;5;241m1\u001b[39m][\u001b[38;5;241m0\u001b[39m] \u001b[38;5;241m=\u001b[39m ppar\u001b[38;5;241m.\u001b[39mP[\u001b[38;5;241m0\u001b[39m][\u001b[38;5;241m0\u001b[39m]    \u001b[38;5;66;03m# overwrite => all the same\u001b[39;00m\n",
      "\u001b[0;31mTypeError\u001b[0m: 'Toy' object is not callable"
     ]
    }
   ],
   "source": [
    "#===========================================================================\n",
    "# Secario 2: No predictive cells \n",
    "#===========================================================================\n",
    "par,token = toy('sarah');  epar,cpar,ppar,dyn = par\n",
    "epar.p[2] = epar.p[1] = epar.p[0]             # overwrite => all the same\n",
    "ppar.P[2][0] = ppar.P[1][0] = ppar.P[0][0]    # overwrite => all the same\n",
    "\n",
    "y,sizes = cat(c:=[0,0,0],token['Sarah'])\n",
    "cells = Cells(3,par,sizes,verbose=0)\n",
    "\n",
    "mon = Monitor(3,8,'Scenario 2: No Predictive Cells')\n",
    "y = cells.iteration(y)\n",
    "check(cells,'|U,U,UQB,UQBY,DY,D,D-|U,U,UQB,UQDBY,DY,D,D-|U,U,UQB,UQDBY,DY,D,D-|')"
   ]
  },
  {
   "cell_type": "code",
   "execution_count": null,
   "id": "fe5cab3e-d12a-42cb-b136-18d60c183a35",
   "metadata": {},
   "outputs": [],
   "source": []
  },
  {
   "cell_type": "code",
   "execution_count": 10,
   "id": "3557294c-0626-4524-95bf-0f8a33ee16cd",
   "metadata": {},
   "outputs": [
    {
     "ename": "TypeError",
     "evalue": "'Toy' object is not callable",
     "output_type": "error",
     "traceback": [
      "\u001b[0;31m---------------------------------------------------------------------------\u001b[0m",
      "\u001b[0;31mTypeError\u001b[0m                                 Traceback (most recent call last)",
      "Cell \u001b[0;32mIn[10], line 4\u001b[0m\n\u001b[1;32m      1\u001b[0m \u001b[38;5;66;03m#===========================================================================\u001b[39;00m\n\u001b[1;32m      2\u001b[0m \u001b[38;5;66;03m# Secario 3: some predictive cells \u001b[39;00m\n\u001b[1;32m      3\u001b[0m \u001b[38;5;66;03m#===========================================================================\u001b[39;00m\n\u001b[0;32m----> 4\u001b[0m par,token \u001b[38;5;241m=\u001b[39m toy(\u001b[38;5;124m'\u001b[39m\u001b[38;5;124msarah\u001b[39m\u001b[38;5;124m'\u001b[39m);  epar,cpar,ppar,dyn \u001b[38;5;241m=\u001b[39m par\n\u001b[1;32m      5\u001b[0m epar\u001b[38;5;241m.\u001b[39mp[\u001b[38;5;241m2\u001b[39m] \u001b[38;5;241m=\u001b[39m epar\u001b[38;5;241m.\u001b[39mp[\u001b[38;5;241m1\u001b[39m] \u001b[38;5;241m=\u001b[39m epar\u001b[38;5;241m.\u001b[39mp[\u001b[38;5;241m0\u001b[39m]             \u001b[38;5;66;03m# overwrite => all the same\u001b[39;00m\n\u001b[1;32m      6\u001b[0m ppar\u001b[38;5;241m.\u001b[39mP[\u001b[38;5;241m2\u001b[39m][\u001b[38;5;241m0\u001b[39m] \u001b[38;5;241m=\u001b[39m ppar\u001b[38;5;241m.\u001b[39mP[\u001b[38;5;241m1\u001b[39m][\u001b[38;5;241m0\u001b[39m] \u001b[38;5;241m=\u001b[39m ppar\u001b[38;5;241m.\u001b[39mP[\u001b[38;5;241m0\u001b[39m][\u001b[38;5;241m0\u001b[39m]    \u001b[38;5;66;03m# overwrite => all the same\u001b[39;00m\n",
      "\u001b[0;31mTypeError\u001b[0m: 'Toy' object is not callable"
     ]
    }
   ],
   "source": [
    "#===========================================================================\n",
    "# Secario 3: some predictive cells \n",
    "#===========================================================================\n",
    "par,token = toy('sarah');  epar,cpar,ppar,dyn = par\n",
    "epar.p[2] = epar.p[1] = epar.p[0]             # overwrite => all the same\n",
    "ppar.P[2][0] = ppar.P[1][0] = ppar.P[0][0]    # overwrite => all the same\n",
    "\n",
    "y,sizes = cat(c:=[0,0,0],token['Sarah'])\n",
    "cells = Cells(3,par,sizes,verbose=0)\n",
    "cells[0].x.set(1)\n",
    "cells[2].x.set(1)\n",
    "\n",
    "mon = Monitor(3,8,'Scenario 3: Some Predictive Cells')\n",
    "y = cells.iteration(y)\n",
    "check(cells,'|UX,UXLY,UQXDY,UQXDY,XDY,XD,XD-|U,UD,UQD,UQD,D,D,D-|UX,UXLDY,UQXDY,UQXDY,XDY,XD,XD-|')"
   ]
  },
  {
   "cell_type": "code",
   "execution_count": 15,
   "id": "87a37139-be02-46e0-8237-1bac56edae80",
   "metadata": {},
   "outputs": [
    {
     "ename": "TypeError",
     "evalue": "'Toy' object is not callable",
     "output_type": "error",
     "traceback": [
      "\u001b[0;31m---------------------------------------------------------------------------\u001b[0m",
      "\u001b[0;31mTypeError\u001b[0m                                 Traceback (most recent call last)",
      "Cell \u001b[0;32mIn[15], line 4\u001b[0m\n\u001b[1;32m      1\u001b[0m \u001b[38;5;66;03m#===========================================================================\u001b[39;00m\n\u001b[1;32m      2\u001b[0m \u001b[38;5;66;03m# Secario 4: Sequence Prediction -> 'Sarah'\u001b[39;00m\n\u001b[1;32m      3\u001b[0m \u001b[38;5;66;03m#===========================================================================\u001b[39;00m\n\u001b[0;32m----> 4\u001b[0m par,token \u001b[38;5;241m=\u001b[39m toy(\u001b[38;5;124m'\u001b[39m\u001b[38;5;124msarah\u001b[39m\u001b[38;5;124m'\u001b[39m);  epar,cpar,ppar,dyn \u001b[38;5;241m=\u001b[39m par\n\u001b[1;32m      5\u001b[0m \u001b[38;5;66;03m#par[0].p[2] = par[0].p[1] = par[0].p[0] # overwrite => all the same\u001b[39;00m\n\u001b[1;32m      6\u001b[0m \u001b[38;5;66;03m#ppar.delta = (0,0)                     # disable learning\u001b[39;00m\n\u001b[1;32m      7\u001b[0m cpar\u001b[38;5;241m.\u001b[39mp[\u001b[38;5;241m0\u001b[39m] \u001b[38;5;241m=\u001b[39m cpar\u001b[38;5;241m.\u001b[39mp[\u001b[38;5;241m1\u001b[39m] \u001b[38;5;241m=\u001b[39m cpar\u001b[38;5;241m.\u001b[39mp[\u001b[38;5;241m2\u001b[39m] \u001b[38;5;241m=\u001b[39m [\u001b[38;5;241m0\u001b[39m,\u001b[38;5;241m0\u001b[39m,\u001b[38;5;241m0\u001b[39m]   \u001b[38;5;66;03m# no collaboration \u001b[39;00m\n",
      "\u001b[0;31mTypeError\u001b[0m: 'Toy' object is not callable"
     ]
    }
   ],
   "source": [
    "#===========================================================================\n",
    "# Secario 4: Sequence Prediction -> 'Sarah'\n",
    "#===========================================================================\n",
    "par,token = toy('sarah');  epar,cpar,ppar,dyn = par\n",
    "#par[0].p[2] = par[0].p[1] = par[0].p[0] # overwrite => all the same\n",
    "#ppar.delta = (0,0)                     # disable learning\n",
    "cpar.p[0] = cpar.p[1] = cpar.p[2] = [0,0,0]   # no collaboration \n",
    "\n",
    "mon = Monitor(3,8,\"Presentation of first item: 'Sarah'\")\n",
    "y,sizes = cat(c:=[0,0,0],token['Sarah'])\n",
    "cells = Cells(3,par,sizes,verbose=0)\n",
    "y = cells.iteration(y,'Sarah')\n",
    "check(cells,'|U,U,UQB,UQBY,Y---|---XS,X,X,X,X|--------|')\n",
    "\n",
    "mon = Monitor(3,8,\"Presentation of second item: 'loves'\")\n",
    "y,sizes = cat(c:=y[:3],token['loves'])\n",
    "y = cells.iteration(y,'loves')\n",
    "check(cells,'|--------|UX,UXLY,UQXBY,UQXBY,Y---|-XS,X,X,X,X,X,X|')\n",
    "\n",
    "mon = Monitor(3,8,\"Presentation of third item: 'music'\")\n",
    "y,sizes = cat(c:=y[:3],token['music'])\n",
    "y = cells.iteration(y,'music')\n",
    "check(cells,'|--------|--------|UX,UXLY,UQXBY,UQXBY,Y---|')"
   ]
  },
  {
   "cell_type": "code",
   "execution_count": null,
   "id": "3013bf7e-01e7-4be8-8481-21c840bcff58",
   "metadata": {},
   "outputs": [],
   "source": []
  },
  {
   "cell_type": "code",
   "execution_count": null,
   "id": "78378176-c143-412a-91cb-d4a95c8893e5",
   "metadata": {},
   "outputs": [],
   "source": []
  },
  {
   "cell_type": "code",
   "execution_count": null,
   "id": "5e32fe25-f84e-47fe-b273-dd5933f31dd6",
   "metadata": {},
   "outputs": [],
   "source": []
  },
  {
   "cell_type": "code",
   "execution_count": null,
   "id": "7afc3147-b0da-400e-93c7-77bf1675f9f6",
   "metadata": {},
   "outputs": [],
   "source": []
  },
  {
   "cell_type": "code",
   "execution_count": null,
   "id": "e03faa70-743f-4825-9381-10b6d591f28a",
   "metadata": {},
   "outputs": [],
   "source": []
  },
  {
   "cell_type": "code",
   "execution_count": null,
   "id": "2a978c5f-3756-4d05-85f9-201258d92e33",
   "metadata": {},
   "outputs": [],
   "source": []
  }
 ],
 "metadata": {
  "kernelspec": {
   "display_name": "Python 3 (ipykernel)",
   "language": "python",
   "name": "python3"
  },
  "language_info": {
   "codemirror_mode": {
    "name": "ipython",
    "version": 3
   },
   "file_extension": ".py",
   "mimetype": "text/x-python",
   "name": "python",
   "nbconvert_exporter": "python",
   "pygments_lexer": "ipython3",
   "version": "3.11.5"
  }
 },
 "nbformat": 4,
 "nbformat_minor": 5
}
