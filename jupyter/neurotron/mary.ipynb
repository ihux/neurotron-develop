{
 "cells": [
  {
   "cell_type": "code",
   "execution_count": 1,
   "id": "af5af936-2302-4152-8a63-d90f01221371",
   "metadata": {},
   "outputs": [],
   "source": [
    "# mary\n",
    "\n",
    "from neurotron import Cells, Train, Monitor\n",
    "isa = isinstance"
   ]
  },
  {
   "cell_type": "code",
   "execution_count": 28,
   "id": "3b4b891a-8e58-4146-ad1b-f1366e8fc761",
   "metadata": {},
   "outputs": [],
   "source": [
    "class Trainer(Train):\n",
    "    def __init__(self,cells):\n",
    "        super().__init__(cells)\n",
    "\n",
    "    def prediction(self,context):\n",
    "        if context in self._contexts:\n",
    "            info = self._contexts[context]\n",
    "            counters = []; total = 0\n",
    "            for key in info:\n",
    "                if not key in ['#','@']:\n",
    "                    n,refer,idx = info[key]\n",
    "                    total += n\n",
    "                    counters.append(n)\n",
    "                    #print('    statistics: %s:' % key,(counters,total))\n",
    "            result = []; k = 0\n",
    "            src = self.address(context)\n",
    "            for key in info:\n",
    "                if not key in ['#','@']:\n",
    "                    ratio = counters[k]/total\n",
    "                    k += 1\n",
    "                    n,refer,idx = info[key]\n",
    "                    dst = self.address(refer)\n",
    "                    result.append((refer,ratio,src,dst))\n",
    "                    #print('    predict(%g%%): %s ->'%(100*ratio,key),info[key])\n",
    "            return result\n",
    "\n",
    "    def predict(self,context):\n",
    "        results = self.prediction(context)\n",
    "        for prediction in results:\n",
    "            refer,ratio,src,dst = prediction\n",
    "            print('    %g%%: ->' % (100*ratio),refer,src,dst)\n",
    "    \n",
    "    def address(self,context):\n",
    "        if context in self._contexts:\n",
    "            info = self._contexts[context]\n",
    "            #print('##### info:',info)\n",
    "            m,n,d,s = self.cells.shape\n",
    "            idx = train.code((info['@'][1])).list()[0]; \n",
    "            jdx = info['#'][0]\n",
    "            assert len(idx) == len(jdx)\n",
    "            kdx = [jdx[s]*m+idx[s] for s in range(len(idx))]\n",
    "            #return ((m,n),idx,jdx,kdx)\n",
    "            return kdx\n",
    "        return None\n",
    "\n",
    "    def learn(self,context):\n",
    "        pass\n",
    "\n"
   ]
  },
  {
   "cell_type": "code",
   "execution_count": 31,
   "id": "d4c00da6-391a-4a22-a945-8119afdaee4e",
   "metadata": {},
   "outputs": [
    {
     "name": "stdout",
     "output_type": "stream",
     "text": [
      "    20%: -> <Lisa likes to paint> [6, 14, 16] [10, 12, 14]\n",
      "    80%: -> <Lisa likes to dance> [6, 14, 16] [8, 12, 14]\n"
     ]
    }
   ],
   "source": [
    "cells = Cells('Mary')\n",
    "train = Trainer(cells)\n",
    "train('Lisa likes to paint .',2)\n",
    "train('Lisa likes to dance .',8)\n",
    "train('Mary likes to sing .',5)\n",
    "#train.show()\n",
    "train.predict('<Lisa likes to>')"
   ]
  },
  {
   "cell_type": "code",
   "execution_count": 32,
   "id": "30a65444-5917-47ed-a0ce-b7fd4eb7d84c",
   "metadata": {},
   "outputs": [
    {
     "name": "stdout",
     "output_type": "stream",
     "text": [
      "    100%: -> <Mary likes to sing> [7, 14, 16] [8, 14, 16]\n"
     ]
    }
   ],
   "source": [
    "train.predict('<Mary likes to>')"
   ]
  },
  {
   "cell_type": "code",
   "execution_count": null,
   "id": "ad711912-ef64-4e1f-ac34-1a8fc6ecdb74",
   "metadata": {},
   "outputs": [],
   "source": []
  },
  {
   "cell_type": "code",
   "execution_count": 9,
   "id": "c4c34f96-de0d-453c-a080-2bc04b7e3367",
   "metadata": {},
   "outputs": [
    {
     "data": {
      "text/plain": [
       "'<Lisa likes to sing .>'"
      ]
     },
     "execution_count": 9,
     "metadata": {},
     "output_type": "execute_result"
    }
   ],
   "source": [
    "cells = Cells('Mary')\n",
    "train = Trainer(cells)\n",
    "train('Mary likes to sing .')\n",
    "train('John likes to dance .')\n",
    "train('Lisa likes to paint .')\n",
    "train('Lisa likes to sing .')\n",
    "#train.show()"
   ]
  },
  {
   "cell_type": "code",
   "execution_count": 5,
   "id": "de944fdc-ff8b-48a9-b53f-2a9fc8a5563d",
   "metadata": {},
   "outputs": [
    {
     "data": {
      "text/plain": [
       "{'#': ([2, 7, 8], '#3', 'likes'),\n",
       " '@': ['#3', [1 0 1; 0 1 0], '2.0-7.1-8.0'],\n",
       " 'to': (2, '<Lisa likes to>', [3, 7, 8])}"
      ]
     },
     "execution_count": 5,
     "metadata": {},
     "output_type": "execute_result"
    }
   ],
   "source": [
    "train._contexts['<Lisa likes>']"
   ]
  },
  {
   "cell_type": "code",
   "execution_count": 6,
   "id": "e35b03ab-5fae-4b8f-b5ef-e7d213144370",
   "metadata": {},
   "outputs": [],
   "source": [
    "#train.predict('<Lisa likes to>')"
   ]
  },
  {
   "cell_type": "code",
   "execution_count": 79,
   "id": "46a33591-f93e-43ce-ab52-dd6b2eaec433",
   "metadata": {},
   "outputs": [],
   "source": [
    "#cells.process('Mary')\n",
    "#cells.process('likes')"
   ]
  },
  {
   "cell_type": "code",
   "execution_count": 86,
   "id": "f19a52df-552d-479d-9923-423248cb69e6",
   "metadata": {},
   "outputs": [
    {
     "name": "stdout",
     "output_type": "stream",
     "text": [
      "##### info: {'#': ([3, 7, 8], '#3', 'to'), '@': ['#3', [1 0 1; 0 1 0], '3.0-7.1-8.0'], 'paint': (1, '<Lisa likes to paint>', [5, 6, 7]), 'sing': (1, '<Lisa likes to sing>', [4, 7, 8])}\n",
      "((2, 9), [0, 1, 0], [3, 7, 8], [6, 15, 16])\n",
      "##### info: {'#': ([5, 6, 7], '#1', 'paint'), '@': ['#1', [1 1 1; 0 0 0], '5.0-6.0-7.0'], '.': (1, '<Lisa likes to paint .>', [6, 7, 8])}\n",
      "((2, 9), [0, 0, 0], [5, 6, 7], [10, 12, 14])\n"
     ]
    }
   ],
   "source": [
    "adr = train.address('<Lisa likes to>');\n",
    "print(adr)\n",
    "adr = train.address('<Lisa likes to paint>');\n",
    "print(adr)\n"
   ]
  },
  {
   "cell_type": "code",
   "execution_count": 84,
   "id": "502d7269-86e7-4060-9ceb-a6f780b15e07",
   "metadata": {},
   "outputs": [
    {
     "data": {
      "image/png": "[encoded data removed]",
      "text/plain": [
       "<Figure size 640x480 with 1 Axes>"
      ]
     },
     "metadata": {},
     "output_type": "display_data"
    }
   ],
   "source": [
    "\n",
    "train.cells.X[6] = 1;\n",
    "train.cells.X[15] = 1;\n",
    "train.cells.X[16] = 1;\n",
    "cells.plot(Monitor(2,9),label=True)\n"
   ]
  },
  {
   "cell_type": "code",
   "execution_count": null,
   "id": "94c0e199-27dd-47b7-8daa-65d5cecd1af0",
   "metadata": {},
   "outputs": [],
   "source": []
  },
  {
   "cell_type": "code",
   "execution_count": 17,
   "id": "55dca290-4b31-497b-a751-774dfe671d0b",
   "metadata": {},
   "outputs": [
    {
     "name": "stdout",
     "output_type": "stream",
     "text": [
      "##### info: {'#': ([0, 6, 7], '#0', 'Lisa'), '@': ['#0', [0 0 0; 0 0 0], '0.0-6.0-7.0'], 'likes': (10, '<Lisa likes>', [2, 7, 8])}\n"
     ]
    },
    {
     "data": {
      "text/plain": [
       "((2, 9), [0, 0, 0], [0, 6, 7], [0, 12, 14])"
      ]
     },
     "execution_count": 17,
     "metadata": {},
     "output_type": "execute_result"
    }
   ],
   "source": [
    "train.address('<Lisa>')"
   ]
  },
  {
   "cell_type": "code",
   "execution_count": null,
   "id": "e335954a-77c2-455c-b2d0-d65fa6ee492b",
   "metadata": {},
   "outputs": [],
   "source": []
  }
 ],
 "metadata": {
  "kernelspec": {
   "display_name": "Python 3 (ipykernel)",
   "language": "python",
   "name": "python3"
  },
  "language_info": {
   "codemirror_mode": {
    "name": "ipython",
    "version": 3
   },
   "file_extension": ".py",
   "mimetype": "text/x-python",
   "name": "python",
   "nbconvert_exporter": "python",
   "pygments_lexer": "ipython3",
   "version": "3.11.5"
  }
 },
 "nbformat": 4,
 "nbformat_minor": 5
}
