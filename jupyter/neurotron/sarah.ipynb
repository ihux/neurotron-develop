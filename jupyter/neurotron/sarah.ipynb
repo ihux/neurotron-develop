{
 "cells": [
  {
   "cell_type": "code",
   "execution_count": 1,
   "id": "c1380b1d-6814-44b8-bb8c-47c3b5a2c41e",
   "metadata": {},
   "outputs": [
    {
     "ename": "ImportError",
     "evalue": "cannot import name 'Neurotron' from 'neurotron' (/Users/hux/Bluenetics/Git/Neural/neurotron-develop/neurotron/src/neurotron/__init__.py)",
     "output_type": "error",
     "traceback": [
      "\u001b[0;31m---------------------------------------------------------------------------\u001b[0m",
      "\u001b[0;31mImportError\u001b[0m                               Traceback (most recent call last)",
      "Cell \u001b[0;32mIn[1], line 3\u001b[0m\n\u001b[1;32m      1\u001b[0m \u001b[38;5;66;03m# Sarah loves music (incorporating collaboration)\u001b[39;00m\n\u001b[0;32m----> 3\u001b[0m \u001b[38;5;28;01mfrom\u001b[39;00m \u001b[38;5;21;01mneurotron\u001b[39;00m \u001b[38;5;28;01mimport\u001b[39;00m Neurotron,Monitor,Record,toy,cat\n\u001b[1;32m      5\u001b[0m \u001b[38;5;66;03m#===========================================================================\u001b[39;00m\n\u001b[1;32m      6\u001b[0m \u001b[38;5;66;03m# class Cells\u001b[39;00m\n\u001b[1;32m      7\u001b[0m \u001b[38;5;66;03m#===========================================================================\u001b[39;00m\n\u001b[1;32m      9\u001b[0m \u001b[38;5;28;01mclass\u001b[39;00m \u001b[38;5;21;01mCells\u001b[39;00m:\n",
      "\u001b[0;31mImportError\u001b[0m: cannot import name 'Neurotron' from 'neurotron' (/Users/hux/Bluenetics/Git/Neural/neurotron-develop/neurotron/src/neurotron/__init__.py)"
     ]
    }
   ],
   "source": [
    "# Sarah loves music (incorporating collaboration)\n",
    "\n",
    "from neurotron import Neurotron,Monitor,Record,toy,cat\n",
    "\n",
    "#===========================================================================\n",
    "# class Cells\n",
    "#===========================================================================\n",
    "\n",
    "class Cells:\n",
    "    def __init__(self,n,par,sizes,verbose=0):\n",
    "        self.verbose = verbose\n",
    "        self.cells = []\n",
    "        for k in range(n):\n",
    "            cell = Neurotron(k,par,sizes,'cell-%g'%k)\n",
    "            self.cells.append(cell)\n",
    "        self.record = Record(self)\n",
    "        \n",
    "    def __call__(self,y,log=None):\n",
    "        if log is not None:\n",
    "            if self.verbose > 0: print(\"\\n\"+log)\n",
    "            log = None if self.verbose == 0 else log\n",
    "        for k in range(len(self.cells)):\n",
    "            y = self.cells[k](y,log)\n",
    "\n",
    "        self.record(self)\n",
    "\n",
    "        if (self.verbose > 0):\n",
    "            self.log(y,log)\n",
    "        return y\n",
    "\n",
    "    def __getitem__(self,k):\n",
    "        return self.cells[k]\n",
    "\n",
    "    def range(self):\n",
    "        return range(len(self.cells))\n",
    "        \n",
    "    def plot(self,j,tag=''):   # plot cell column at monitor location (*,j)\n",
    "        for k in range(len(self.cells)):\n",
    "            mon(self.cells[k],k,j)\n",
    "        mon.xlabel(j,tag)\n",
    "\n",
    "    def log(self,y,tag=None):\n",
    "        self.record.log(self,y,tag)\n",
    "\n",
    "    def iterate(self,k,y,tag,log=None):\n",
    "        prefix = log + \" - \" if log is not None else \"\"\n",
    "        y = self(y,'iteration %g (%s)'%(k,prefix+tag))\n",
    "        self.plot(k,tag)\n",
    "        return y\n",
    "    \n",
    "    def iteration(self,y,log=None):\n",
    "        self.record.clear()\n",
    "        tags = ['stimu','react','excite','burst','settle','relax1','relax2','relax3']\n",
    "        for k in range(len(tags)):\n",
    "            y = self.iterate(k,y,tags[k],log)\n",
    "        return y\n",
    "            \n",
    "#===========================================================================\n",
    "# helper: check cell's movie with given pattern\n",
    "#===========================================================================\n",
    "\n",
    "def check(cells,pattern):\n",
    "    \"\"\"\n",
    "    check(): check recorder pattern of a network of cells against a given\n",
    "             pattern and raise exception if check fails.\n",
    "    >>> par,token = toy('sarah')\n",
    "    >>> cells = Cells(3,par,[3,10])\n",
    "    >>> y = cells.iteration([0,0,0]+token['Sarah'])\n",
    "    >>> check(cells,'|U,U,QB,QBY,DY,D--|---D,XD,X,X,X|---D,D---|')\n",
    "    \"\"\"\n",
    "    p = cells.record.pattern()\n",
    "    if p != pattern:\n",
    "        print('expected: ',pattern)\n",
    "        print('got:      ',p)\n",
    "        raise Exception('pattern check failed')\n",
    "\n"
   ]
  },
  {
   "cell_type": "code",
   "execution_count": null,
   "id": "fd7ca0b8-de56-4da5-9826-2e017dc6ac67",
   "metadata": {},
   "outputs": [],
   "source": [
    "mon = Monitor(3,8,'Scenario 1: How to create a cell cluster')\n",
    "\n",
    "#===========================================================================\n",
    "# How to create a cells cluster \n",
    "#===========================================================================\n",
    "\n",
    "par,token = toy('sarah')\n",
    "cells = Cells(3,par,[3,10],verbose=0)\n",
    "y = cells.iteration([0,0,0]+token['Sarah'])\n",
    "check(cells,'|U,U,UQB,UQBY,DY,D,D-|---XDS,XD,XD,X,X|---D,D,D--|')"
   ]
  },
  {
   "cell_type": "code",
   "execution_count": null,
   "id": "81c7c103-17fa-4143-acec-ac0e174a1866",
   "metadata": {},
   "outputs": [],
   "source": [
    "#===========================================================================\n",
    "# Secario 2: No predictive cells \n",
    "#===========================================================================\n",
    "par,token = toy('sarah');  epar,cpar,ppar,dyn = par\n",
    "epar.p[2] = epar.p[1] = epar.p[0]             # overwrite => all the same\n",
    "ppar.P[2][0] = ppar.P[1][0] = ppar.P[0][0]    # overwrite => all the same\n",
    "\n",
    "y,sizes = cat(c:=[0,0,0],token['Sarah'])\n",
    "cells = Cells(3,par,sizes,verbose=0)\n",
    "\n",
    "mon = Monitor(3,8,'Scenario 2: No Predictive Cells')\n",
    "y = cells.iteration(y)\n",
    "check(cells,'|U,U,UQB,UQBY,DY,D,D-|U,U,UQB,UQDBY,DY,D,D-|U,U,UQB,UQDBY,DY,D,D-|')"
   ]
  },
  {
   "cell_type": "code",
   "execution_count": 2,
   "id": "3557294c-0626-4524-95bf-0f8a33ee16cd",
   "metadata": {},
   "outputs": [
    {
     "ename": "NameError",
     "evalue": "name 'toy' is not defined",
     "output_type": "error",
     "traceback": [
      "\u001b[0;31m---------------------------------------------------------------------------\u001b[0m",
      "\u001b[0;31mNameError\u001b[0m                                 Traceback (most recent call last)",
      "Cell \u001b[0;32mIn[2], line 4\u001b[0m\n\u001b[1;32m      1\u001b[0m \u001b[38;5;66;03m#===========================================================================\u001b[39;00m\n\u001b[1;32m      2\u001b[0m \u001b[38;5;66;03m# Secario 3: some predictive cells \u001b[39;00m\n\u001b[1;32m      3\u001b[0m \u001b[38;5;66;03m#===========================================================================\u001b[39;00m\n\u001b[0;32m----> 4\u001b[0m par,token \u001b[38;5;241m=\u001b[39m toy(\u001b[38;5;124m'\u001b[39m\u001b[38;5;124msarah\u001b[39m\u001b[38;5;124m'\u001b[39m);  epar,cpar,ppar,dyn \u001b[38;5;241m=\u001b[39m par\n\u001b[1;32m      5\u001b[0m epar\u001b[38;5;241m.\u001b[39mp[\u001b[38;5;241m2\u001b[39m] \u001b[38;5;241m=\u001b[39m epar\u001b[38;5;241m.\u001b[39mp[\u001b[38;5;241m1\u001b[39m] \u001b[38;5;241m=\u001b[39m epar\u001b[38;5;241m.\u001b[39mp[\u001b[38;5;241m0\u001b[39m]             \u001b[38;5;66;03m# overwrite => all the same\u001b[39;00m\n\u001b[1;32m      6\u001b[0m ppar\u001b[38;5;241m.\u001b[39mP[\u001b[38;5;241m2\u001b[39m][\u001b[38;5;241m0\u001b[39m] \u001b[38;5;241m=\u001b[39m ppar\u001b[38;5;241m.\u001b[39mP[\u001b[38;5;241m1\u001b[39m][\u001b[38;5;241m0\u001b[39m] \u001b[38;5;241m=\u001b[39m ppar\u001b[38;5;241m.\u001b[39mP[\u001b[38;5;241m0\u001b[39m][\u001b[38;5;241m0\u001b[39m]    \u001b[38;5;66;03m# overwrite => all the same\u001b[39;00m\n",
      "\u001b[0;31mNameError\u001b[0m: name 'toy' is not defined"
     ]
    }
   ],
   "source": [
    "#===========================================================================\n",
    "# Secario 3: some predictive cells \n",
    "#===========================================================================\n",
    "par,token = toy('sarah');  epar,cpar,ppar,dyn = par\n",
    "epar.p[2] = epar.p[1] = epar.p[0]             # overwrite => all the same\n",
    "ppar.P[2][0] = ppar.P[1][0] = ppar.P[0][0]    # overwrite => all the same\n",
    "\n",
    "y,sizes = cat(c:=[0,0,0],token['Sarah'])\n",
    "cells = Cells(3,par,sizes,verbose=0)\n",
    "cells[0].x.set(1)\n",
    "cells[2].x.set(1)\n",
    "\n",
    "mon = Monitor(3,8,'Scenario 3: Some Predictive Cells')\n",
    "y = cells.iteration(y)\n",
    "check(cells,'|UX,UXLY,UQXDY,UQXDY,XDY,XD,XD-|U,UD,UQD,UQD,D,D,D-|UX,UXLDY,UQXDY,UQXDY,XDY,XD,XD-|')"
   ]
  },
  {
   "cell_type": "code",
   "execution_count": 3,
   "id": "87a37139-be02-46e0-8237-1bac56edae80",
   "metadata": {},
   "outputs": [
    {
     "ename": "NameError",
     "evalue": "name 'toy' is not defined",
     "output_type": "error",
     "traceback": [
      "\u001b[0;31m---------------------------------------------------------------------------\u001b[0m",
      "\u001b[0;31mNameError\u001b[0m                                 Traceback (most recent call last)",
      "Cell \u001b[0;32mIn[3], line 4\u001b[0m\n\u001b[1;32m      1\u001b[0m \u001b[38;5;66;03m#===========================================================================\u001b[39;00m\n\u001b[1;32m      2\u001b[0m \u001b[38;5;66;03m# Secario 4: Sequence Prediction -> 'Sarah'\u001b[39;00m\n\u001b[1;32m      3\u001b[0m \u001b[38;5;66;03m#===========================================================================\u001b[39;00m\n\u001b[0;32m----> 4\u001b[0m par,token \u001b[38;5;241m=\u001b[39m toy(\u001b[38;5;124m'\u001b[39m\u001b[38;5;124msarah\u001b[39m\u001b[38;5;124m'\u001b[39m);  epar,cpar,ppar,dyn \u001b[38;5;241m=\u001b[39m par\n\u001b[1;32m      5\u001b[0m \u001b[38;5;66;03m#par[0].p[2] = par[0].p[1] = par[0].p[0] # overwrite => all the same\u001b[39;00m\n\u001b[1;32m      6\u001b[0m \u001b[38;5;66;03m#ppar.delta = (0,0)                     # disable learning\u001b[39;00m\n\u001b[1;32m      7\u001b[0m cpar\u001b[38;5;241m.\u001b[39mp[\u001b[38;5;241m0\u001b[39m] \u001b[38;5;241m=\u001b[39m cpar\u001b[38;5;241m.\u001b[39mp[\u001b[38;5;241m1\u001b[39m] \u001b[38;5;241m=\u001b[39m cpar\u001b[38;5;241m.\u001b[39mp[\u001b[38;5;241m2\u001b[39m] \u001b[38;5;241m=\u001b[39m [\u001b[38;5;241m0\u001b[39m,\u001b[38;5;241m0\u001b[39m,\u001b[38;5;241m0\u001b[39m]   \u001b[38;5;66;03m# no collaboration \u001b[39;00m\n",
      "\u001b[0;31mNameError\u001b[0m: name 'toy' is not defined"
     ]
    }
   ],
   "source": [
    "#===========================================================================\n",
    "# Secario 4: Sequence Prediction -> 'Sarah'\n",
    "#===========================================================================\n",
    "par,token = toy('sarah');  epar,cpar,ppar,dyn = par\n",
    "#par[0].p[2] = par[0].p[1] = par[0].p[0] # overwrite => all the same\n",
    "#ppar.delta = (0,0)                     # disable learning\n",
    "cpar.p[0] = cpar.p[1] = cpar.p[2] = [0,0,0]   # no collaboration \n",
    "\n",
    "mon = Monitor(3,8,\"Presentation of first item: 'Sarah'\")\n",
    "y,sizes = cat(c:=[0,0,0],token['Sarah'])\n",
    "cells = Cells(3,par,sizes,verbose=0)\n",
    "y = cells.iteration(y,'Sarah')\n",
    "check(cells,'|U,U,UQB,UQBY,Y---|---XS,X,X,X,X|--------|')\n",
    "\n",
    "mon = Monitor(3,8,\"Presentation of second item: 'loves'\")\n",
    "y,sizes = cat(c:=y[:3],token['loves'])\n",
    "y = cells.iteration(y,'loves')\n",
    "check(cells,'|--------|UX,UXLY,UQXBY,UQXBY,Y---|-XS,X,X,X,X,X,X|')\n",
    "\n",
    "mon = Monitor(3,8,\"Presentation of third item: 'music'\")\n",
    "y,sizes = cat(c:=y[:3],token['music'])\n",
    "y = cells.iteration(y,'music')\n",
    "check(cells,'|--------|--------|UX,UXLY,UQXBY,UQXBY,Y---|')"
   ]
  },
  {
   "cell_type": "code",
   "execution_count": null,
   "id": "3013bf7e-01e7-4be8-8481-21c840bcff58",
   "metadata": {},
   "outputs": [],
   "source": []
  },
  {
   "cell_type": "code",
   "execution_count": null,
   "id": "78378176-c143-412a-91cb-d4a95c8893e5",
   "metadata": {},
   "outputs": [],
   "source": []
  },
  {
   "cell_type": "code",
   "execution_count": null,
   "id": "5e32fe25-f84e-47fe-b273-dd5933f31dd6",
   "metadata": {},
   "outputs": [],
   "source": []
  },
  {
   "cell_type": "code",
   "execution_count": null,
   "id": "7afc3147-b0da-400e-93c7-77bf1675f9f6",
   "metadata": {},
   "outputs": [],
   "source": []
  },
  {
   "cell_type": "code",
   "execution_count": null,
   "id": "e03faa70-743f-4825-9381-10b6d591f28a",
   "metadata": {},
   "outputs": [],
   "source": []
  },
  {
   "cell_type": "code",
   "execution_count": null,
   "id": "2a978c5f-3756-4d05-85f9-201258d92e33",
   "metadata": {},
   "outputs": [],
   "source": []
  }
 ],
 "metadata": {
  "kernelspec": {
   "display_name": "Python 3 (ipykernel)",
   "language": "python",
   "name": "python3"
  },
  "language_info": {
   "codemirror_mode": {
    "name": "ipython",
    "version": 3
   },
   "file_extension": ".py",
   "mimetype": "text/x-python",
   "name": "python",
   "nbconvert_exporter": "python",
   "pygments_lexer": "ipython3",
   "version": "3.11.5"
  }
 },
 "nbformat": 4,
 "nbformat_minor": 5
}
