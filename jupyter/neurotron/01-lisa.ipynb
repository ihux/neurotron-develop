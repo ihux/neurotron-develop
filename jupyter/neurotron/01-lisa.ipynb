{
 "cells": [
  {
   "cell_type": "code",
   "execution_count": 1,
   "id": "c1380b1d-6814-44b8-bb8c-47c3b5a2c41e",
   "metadata": {},
   "outputs": [],
   "source": [
    "# Lisa loves opera (very simple trained 3-neurotron network)\n",
    "\n",
    "from neurotron import Token, Toy, Cells, Train"
   ]
  },
  {
   "cell_type": "code",
   "execution_count": 2,
   "id": "c254ca65-53c2-4976-98d3-df218f1eecf7",
   "metadata": {},
   "outputs": [],
   "source": [
    "# To get help on classes Token, Toy, Cells, Train uncomment the appropriate line below:\n",
    "#help(Token)\n",
    "#help(Toy)\n",
    "#help(Cells)\n",
    "#help(Train)"
   ]
  },
  {
   "cell_type": "code",
   "execution_count": 3,
   "id": "26a7b621-dc58-4c12-8847-d0bf291ba024",
   "metadata": {},
   "outputs": [
    {
     "name": "stdout",
     "output_type": "stream",
     "text": [
      "{'Lisa': [1, 0, 0], 'loves': [0, 1, 0], 'opera': [0, 0, 1]}\n"
     ]
    }
   ],
   "source": [
    "# Create a Tokenizer\n",
    "\n",
    "token = Token({'Lisa':[1,0,0], 'loves':[0,1,0], 'opera':[0,0,1]})\n",
    "print(token)"
   ]
  },
  {
   "cell_type": "code",
   "execution_count": 4,
   "id": "f057613b-9083-44c7-b140-8ec4dd271725",
   "metadata": {},
   "outputs": [
    {
     "name": "stdout",
     "output_type": "stream",
     "text": [
      "Lisa\n",
      "loves\n",
      "opera\n"
     ]
    }
   ],
   "source": [
    "# The Token class provides a method for decoding tokens\n",
    "\n",
    "print(token.decode([1,0,0]))  # token for 'Lisa'\n",
    "print(token.decode([0,1,0]))  # token for 'loves'\n",
    "print(token.decode([0,0,1]))  # token for 'opera' "
   ]
  },
  {
   "cell_type": "code",
   "execution_count": 5,
   "id": "bc99beb6-6eca-4855-a167-79661f191652",
   "metadata": {},
   "outputs": [
    {
     "name": "stdout",
     "output_type": "stream",
     "text": [
      "['loves', 'opera']\n"
     ]
    }
   ],
   "source": [
    "# if ambiguous patterns are presented to the decoder, the decoder returns a tuple of all \n",
    "# tokens which might be represented by the given pattern.\n",
    "\n",
    "print(token.decode([0,1,1]))  # 'bit pattern union' of tokens 'loves' and 'opera' "
   ]
  },
  {
   "cell_type": "code",
   "execution_count": 7,
   "id": "fd7ca0b8-de56-4da5-9826-2e017dc6ac67",
   "metadata": {},
   "outputs": [
    {
     "ename": "Exception",
     "evalue": "gave up after 100k trials",
     "output_type": "error",
     "traceback": [
      "\u001b[0;31m---------------------------------------------------------------------------\u001b[0m",
      "\u001b[0;31mException\u001b[0m                                 Traceback (most recent call last)",
      "Cell \u001b[0;32mIn[7], line 9\u001b[0m\n\u001b[1;32m      6\u001b[0m s \u001b[38;5;241m=\u001b[39m \u001b[38;5;241m3\u001b[39m  \u001b[38;5;66;03m# number of synapses per detector\u001b[39;00m\n\u001b[1;32m      8\u001b[0m shape \u001b[38;5;241m=\u001b[39m (m,n,d,s)\n\u001b[0;32m----> 9\u001b[0m cells \u001b[38;5;241m=\u001b[39m \u001b[43mCells\u001b[49m\u001b[43m(\u001b[49m\u001b[43mshape\u001b[49m\u001b[43m,\u001b[49m\u001b[43mtoken\u001b[49m\u001b[43m)\u001b[49m\n\u001b[1;32m     11\u001b[0m \u001b[38;5;66;03m# we have eight (binary) states per cell:\u001b[39;00m\n\u001b[1;32m     12\u001b[0m \u001b[38;5;66;03m# - U: stimulation state  (blue)\u001b[39;00m\n\u001b[1;32m     13\u001b[0m \u001b[38;5;66;03m# - Q: excitation state   (violet)\u001b[39;00m\n\u001b[0;32m   (...)\u001b[0m\n\u001b[1;32m     22\u001b[0m \n\u001b[1;32m     23\u001b[0m \u001b[38;5;66;03m#print(cells)\u001b[39;00m\n\u001b[1;32m     24\u001b[0m cells\n",
      "File \u001b[0;32m~/Bluenetics/Git/Neural/neurotron-develop/neurotron/src/neurotron/cluster/cells.py:404\u001b[0m, in \u001b[0;36mCells.__init__\u001b[0;34m(self, shape, token, verbose, char)\u001b[0m\n\u001b[1;32m    401\u001b[0m \u001b[38;5;28mself\u001b[39m\u001b[38;5;241m.\u001b[39mtoken \u001b[38;5;241m=\u001b[39m \u001b[38;5;28mself\u001b[39m\u001b[38;5;241m.\u001b[39m_token_setup(token)\n\u001b[1;32m    402\u001b[0m m,n,d,s \u001b[38;5;241m=\u001b[39m shape\n\u001b[0;32m--> 404\u001b[0m f \u001b[38;5;241m=\u001b[39m [\u001b[38;5;241m0\u001b[39m,\u001b[38;5;241m0\u001b[39m,\u001b[38;5;241m0\u001b[39m] \u001b[38;5;28;01mif\u001b[39;00m \u001b[38;5;28mself\u001b[39m\u001b[38;5;241m.\u001b[39mtoken \u001b[38;5;129;01mis\u001b[39;00m \u001b[38;5;28;01mNone\u001b[39;00m \u001b[38;5;28;01melse\u001b[39;00m \u001b[38;5;28;43mself\u001b[39;49m\u001b[38;5;241;43m.\u001b[39;49m\u001b[43mtoken\u001b[49m\u001b[43m(\u001b[49m\u001b[38;5;124;43m'\u001b[39;49m\u001b[38;5;124;43m.\u001b[39;49m\u001b[38;5;124;43m'\u001b[39;49m\u001b[43m)\u001b[49m\n\u001b[1;32m    405\u001b[0m \u001b[38;5;28mself\u001b[39m\u001b[38;5;241m.\u001b[39my \u001b[38;5;241m=\u001b[39m nm\u001b[38;5;241m.\u001b[39mrow(nm\u001b[38;5;241m.\u001b[39mzeros(\u001b[38;5;241m1\u001b[39m,m\u001b[38;5;241m*\u001b[39mn),f)\n\u001b[1;32m    406\u001b[0m \u001b[38;5;28mself\u001b[39m\u001b[38;5;241m.\u001b[39mrecord \u001b[38;5;241m=\u001b[39m Record(\u001b[38;5;28mself\u001b[39m)\n",
      "File \u001b[0;32m~/Bluenetics/Git/Neural/neurotron-develop/neurotron/src/neurotron/cluster/token.py:176\u001b[0m, in \u001b[0;36mToken.__call__\u001b[0;34m(self, word)\u001b[0m\n\u001b[1;32m    169\u001b[0m \u001b[38;5;250m\u001b[39m\u001b[38;5;124;03m\"\"\"\u001b[39;00m\n\u001b[1;32m    170\u001b[0m \u001b[38;5;124;03mreturn token pattern (with auto-upgrade)\u001b[39;00m\n\u001b[1;32m    171\u001b[0m \u001b[38;5;124;03m>>> token = Token({'word1':[0,1,0,1],'word2':[1,0,1,0]})\u001b[39;00m\n\u001b[1;32m    172\u001b[0m \u001b[38;5;124;03m>>> seed(0); token('word3')\u001b[39;00m\n\u001b[1;32m    173\u001b[0m \u001b[38;5;124;03m[1, 0, 0, 1]\u001b[39;00m\n\u001b[1;32m    174\u001b[0m \u001b[38;5;124;03m\"\"\"\u001b[39;00m\n\u001b[1;32m    175\u001b[0m \u001b[38;5;28;01mif\u001b[39;00m word \u001b[38;5;129;01min\u001b[39;00m \u001b[38;5;28mself\u001b[39m: \u001b[38;5;28;01mreturn\u001b[39;00m \u001b[38;5;28mself\u001b[39m[word]\n\u001b[0;32m--> 176\u001b[0m \u001b[38;5;28;01mreturn\u001b[39;00m \u001b[38;5;28;43mself\u001b[39;49m\u001b[38;5;241;43m.\u001b[39;49m\u001b[43mupgrade\u001b[49m\u001b[43m(\u001b[49m\u001b[43mword\u001b[49m\u001b[43m)\u001b[49m\n",
      "File \u001b[0;32m~/Bluenetics/Git/Neural/neurotron-develop/neurotron/src/neurotron/cluster/token.py:166\u001b[0m, in \u001b[0;36mToken.upgrade\u001b[0;34m(self, word)\u001b[0m\n\u001b[1;32m    164\u001b[0m         \u001b[38;5;28mself\u001b[39m\u001b[38;5;241m.\u001b[39mshape \u001b[38;5;241m=\u001b[39m (m\u001b[38;5;241m+\u001b[39m\u001b[38;5;241m1\u001b[39m,n)\n\u001b[1;32m    165\u001b[0m         \u001b[38;5;28;01mreturn\u001b[39;00m pattern\n\u001b[0;32m--> 166\u001b[0m \u001b[38;5;28;01mraise\u001b[39;00m \u001b[38;5;167;01mException\u001b[39;00m(\u001b[38;5;124m'\u001b[39m\u001b[38;5;124mgave up after 100k trials\u001b[39m\u001b[38;5;124m'\u001b[39m)\n",
      "\u001b[0;31mException\u001b[0m: gave up after 100k trials"
     ]
    }
   ],
   "source": [
    "# Enough about tokens! Let's create a 1 x 3 cell cluster (3 neurotron cells)\n",
    "\n",
    "m = 1  # number of cluster rows\n",
    "n = 3  # number of cluster columns\n",
    "d = 1  # number of detectors per terminal\n",
    "s = 3  # number of synapses per detector\n",
    "\n",
    "shape = (m,n,d,s)\n",
    "cells = Cells(shape,token)\n",
    "\n",
    "# we have eight (binary) states per cell:\n",
    "# - U: stimulation state  (blue)\n",
    "# - Q: excitation state   (violet)\n",
    "# - D: depression state   (dark gray)\n",
    "# - B: bursts state       (orange)\n",
    "# - X: prediction state   (green)\n",
    "# - Y: activation state   (red)\n",
    "# - S: spiking state      (white)\n",
    "# - L: learning state     (yellow)\n",
    "\n",
    "# initially none of these states are activated\n",
    "\n",
    "#print(cells)\n",
    "cells\n",
    "\"\"\"\n",
    "File ~/Bluenetics/Git/Neural/neurotron-develop/neurotron/src/neurotron/cluster/cells.py:404, in Cells.__init__(self, shape, token, verbose, char)\n",
    "    401 self.token = self._token_setup(token)\n",
    "    402 m,n,d,s = shape\n",
    "--> 404 f = [0,0,0] if self.token is None else self.token('.')\n",
    "    405 self.y = nm.row(nm.zeros(1,m*n),f)\n",
    "    406 self.record = Record(self)\n",
    "\"\"\""
   ]
  },
  {
   "cell_type": "code",
   "execution_count": 44,
   "id": "01795663-b96e-4a20-9e60-db130480f530",
   "metadata": {},
   "outputs": [
    {
     "name": "stdout",
     "output_type": "stream",
     "text": [
      "|UXDYS|QS|UQXLDBYS|\n"
     ]
    }
   ],
   "source": [
    "# States can be accessed as 1-dimensional arrays or 2-dimensional matrices\n",
    "# E.g.: cells.X[i,j] = cells.X[k] with k = m*j + i\n",
    "# Let us set some states:\n",
    "\n",
    "    # cell [0] or [0,0]\n",
    "\n",
    "cells.U[0,0] = 1     # cell [0] or [0,0]\n",
    "cells.X[0] = 1\n",
    "cells.Y[0] = 1\n",
    "cells.S[0] = 1\n",
    "cells.D[0] = 1\n",
    "\n",
    "    # cell [1] or [0,1]\n",
    "\n",
    "cells.Q[1] = 1     \n",
    "cells.S[1] = 1\n",
    "\n",
    "    # cell [2] or [0,2]\n",
    "\n",
    "cells.U[2] = 1\n",
    "cells.Q[2] = 1      # hides U state in the display\n",
    "cells.X[2] = 1\n",
    "cells.Y[2] = 1\n",
    "cells.S[2] = 1\n",
    "cells.L[2] = 1      # hides S state in the display\n",
    "cells.D[2] = 1\n",
    "cells.B[2] = 1      # hides D state in the display\n",
    "\n",
    "# Let us display the cell cluster's states. \n",
    "\n",
    "print(cells)"
   ]
  },
  {
   "cell_type": "code",
   "execution_count": 34,
   "id": "a11ebc1f-88d3-4efc-a557-055ea502d3ee",
   "metadata": {},
   "outputs": [
    {
     "ename": "AttributeError",
     "evalue": "'int' object has no attribute 'list'",
     "output_type": "error",
     "traceback": [
      "\u001b[0;31m---------------------------------------------------------------------------\u001b[0m",
      "\u001b[0;31mAttributeError\u001b[0m                            Traceback (most recent call last)",
      "Cell \u001b[0;32mIn[34], line 10\u001b[0m\n\u001b[1;32m      1\u001b[0m \u001b[38;5;66;03m# Now Let us plot the cell cluster's states. \u001b[39;00m\n\u001b[1;32m      2\u001b[0m \u001b[38;5;66;03m# Only 5 states per cell are displayed (to present state info as compact as possible). \u001b[39;00m\n\u001b[1;32m      3\u001b[0m \u001b[38;5;66;03m# This means that states U,S,D might be potentially hidden when displayed, if states Q,L,B \u001b[39;00m\n\u001b[0;32m   (...)\u001b[0m\n\u001b[1;32m      7\u001b[0m \u001b[38;5;66;03m# - B hides D\u001b[39;00m\n\u001b[1;32m      8\u001b[0m \u001b[38;5;66;03m# mind: the state values are not actually over written, it is only a matter of (compact) plotting\u001b[39;00m\n\u001b[0;32m---> 10\u001b[0m \u001b[43mcells\u001b[49m\u001b[38;5;241;43m.\u001b[39;49m\u001b[43mplot\u001b[49m\u001b[43m(\u001b[49m\u001b[43m)\u001b[49m\n",
      "File \u001b[0;32m~/Bluenetics/Git/Neural/neurotron-develop/neurotron/src/neurotron/cluster/cells.py:512\u001b[0m, in \u001b[0;36mCells.plot\u001b[0;34m(self, mon, subplot, label, title, decode)\u001b[0m\n\u001b[1;32m    510\u001b[0m \u001b[38;5;28;01mif\u001b[39;00m title \u001b[38;5;129;01mis\u001b[39;00m \u001b[38;5;129;01mnot\u001b[39;00m \u001b[38;5;28;01mNone\u001b[39;00m: mon\u001b[38;5;241m.\u001b[39mtitle(title)\n\u001b[1;32m    511\u001b[0m \u001b[38;5;28;01mif\u001b[39;00m decode:\n\u001b[0;32m--> 512\u001b[0m     output,predict \u001b[38;5;241m=\u001b[39m \u001b[38;5;28;43mself\u001b[39;49m\u001b[38;5;241;43m.\u001b[39;49m\u001b[43mdecode\u001b[49m\u001b[43m(\u001b[49m\u001b[43m)\u001b[49m\n\u001b[1;32m    513\u001b[0m     head \u001b[38;5;241m=\u001b[39m \u001b[38;5;28mstr\u001b[39m(output) \u001b[38;5;241m+\u001b[39m \u001b[38;5;124m'\u001b[39m\u001b[38;5;124m -> \u001b[39m\u001b[38;5;124m'\u001b[39m\n\u001b[1;32m    514\u001b[0m     txt \u001b[38;5;241m=\u001b[39m head \u001b[38;5;241m+\u001b[39m \u001b[38;5;28mstr\u001b[39m(predict)\n",
      "File \u001b[0;32m~/Bluenetics/Git/Neural/neurotron-develop/neurotron/src/neurotron/cluster/cells.py:369\u001b[0m, in \u001b[0;36mCluster.decode\u001b[0;34m(self)\u001b[0m\n\u001b[1;32m    368\u001b[0m \u001b[38;5;28;01mdef\u001b[39;00m \u001b[38;5;21mdecode\u001b[39m(\u001b[38;5;28mself\u001b[39m):\n\u001b[0;32m--> 369\u001b[0m     output \u001b[38;5;241m=\u001b[39m \u001b[38;5;28;43mself\u001b[39;49m\u001b[38;5;241;43m.\u001b[39;49m\u001b[43mtoken\u001b[49m\u001b[38;5;241;43m.\u001b[39;49m\u001b[43mdecode\u001b[49m\u001b[43m(\u001b[49m\u001b[38;5;28;43mself\u001b[39;49m\u001b[38;5;241;43m.\u001b[39;49m\u001b[43mY\u001b[49m\u001b[43m)\u001b[49m\n\u001b[1;32m    370\u001b[0m     predict \u001b[38;5;241m=\u001b[39m \u001b[38;5;28mself\u001b[39m\u001b[38;5;241m.\u001b[39mtoken\u001b[38;5;241m.\u001b[39mdecode(\u001b[38;5;28mself\u001b[39m\u001b[38;5;241m.\u001b[39mX)\n\u001b[1;32m    371\u001b[0m     \u001b[38;5;28;01mreturn\u001b[39;00m (output,predict)\n",
      "File \u001b[0;32m~/Bluenetics/Git/Neural/neurotron-develop/neurotron/src/neurotron/cluster/token.py:101\u001b[0m, in \u001b[0;36mToken.decode\u001b[0;34m(self, arg)\u001b[0m\n\u001b[1;32m     99\u001b[0m     \u001b[38;5;28;01mreturn\u001b[39;00m decoder[key] \u001b[38;5;28;01mif\u001b[39;00m key \u001b[38;5;129;01min\u001b[39;00m decoder \u001b[38;5;28;01melse\u001b[39;00m \u001b[38;5;28mself\u001b[39m\u001b[38;5;241m.\u001b[39m_multi(arg)\n\u001b[1;32m    100\u001b[0m \u001b[38;5;28;01melif\u001b[39;00m isa(arg,Matrix):\n\u001b[0;32m--> 101\u001b[0m     row \u001b[38;5;241m=\u001b[39m \u001b[43mmf\u001b[49m\u001b[38;5;241;43m.\u001b[39;49m\u001b[43mMAX\u001b[49m\u001b[43m(\u001b[49m\u001b[43marg\u001b[49m\u001b[43m)\u001b[49m\u001b[38;5;241;43m.\u001b[39;49m\u001b[43mlist\u001b[49m()[\u001b[38;5;241m0\u001b[39m]\n\u001b[1;32m    102\u001b[0m     key \u001b[38;5;241m=\u001b[39m \u001b[38;5;28mself\u001b[39m\u001b[38;5;241m.\u001b[39mpattern(row)\n\u001b[1;32m    103\u001b[0m     \u001b[38;5;66;03m#print('### decoder:',decoder)\u001b[39;00m\n\u001b[1;32m    104\u001b[0m     \u001b[38;5;66;03m#print('###  row:',row,'key:',key,'in decoder:',key in decoder)\u001b[39;00m\n",
      "\u001b[0;31mAttributeError\u001b[0m: 'int' object has no attribute 'list'"
     ]
    },
    {
     "data": {
      "image/png": "[encoded data removed]",
      "text/plain": [
       "<Figure size 640x480 with 1 Axes>"
      ]
     },
     "metadata": {},
     "output_type": "display_data"
    }
   ],
   "source": [
    "# Now Let us plot the cell cluster's states. \n",
    "# Only 5 states per cell are displayed (to present state info as compact as possible). \n",
    "# This means that states U,S,D might be potentially hidden when displayed, if states Q,L,B \n",
    "# are set (have logical value 1):\n",
    "# - Q hides U\n",
    "# - L hides S\n",
    "# - B hides D\n",
    "# mind: the state values are not actually over written, it is only a matter of (compact) plotting\n",
    "\n",
    "cells.plot()"
   ]
  },
  {
   "cell_type": "code",
   "execution_count": null,
   "id": "81c7c103-17fa-4143-acec-ac0e174a1866",
   "metadata": {},
   "outputs": [],
   "source": [
    "#===========================================================================\n",
    "# Secario 2: No predictive cells \n",
    "#===========================================================================\n",
    "par,token = toy('sarah');  epar,cpar,ppar,dyn = par\n",
    "epar.p[2] = epar.p[1] = epar.p[0]             # overwrite => all the same\n",
    "ppar.P[2][0] = ppar.P[1][0] = ppar.P[0][0]    # overwrite => all the same\n",
    "\n",
    "y,sizes = cat(c:=[0,0,0],token['Sarah'])\n",
    "cells = Cells(3,par,sizes,verbose=0)\n",
    "\n",
    "mon = Monitor(3,8,'Scenario 2: No Predictive Cells')\n",
    "y = cells.iteration(y)\n",
    "check(cells,'|U,U,UQB,UQBY,DY,D,D-|U,U,UQB,UQDBY,DY,D,D-|U,U,UQB,UQDBY,DY,D,D-|')"
   ]
  },
  {
   "cell_type": "code",
   "execution_count": null,
   "id": "fe5cab3e-d12a-42cb-b136-18d60c183a35",
   "metadata": {},
   "outputs": [],
   "source": []
  },
  {
   "cell_type": "code",
   "execution_count": 2,
   "id": "3557294c-0626-4524-95bf-0f8a33ee16cd",
   "metadata": {},
   "outputs": [
    {
     "ename": "NameError",
     "evalue": "name 'toy' is not defined",
     "output_type": "error",
     "traceback": [
      "\u001b[0;31m---------------------------------------------------------------------------\u001b[0m",
      "\u001b[0;31mNameError\u001b[0m                                 Traceback (most recent call last)",
      "Cell \u001b[0;32mIn[2], line 4\u001b[0m\n\u001b[1;32m      1\u001b[0m \u001b[38;5;66;03m#===========================================================================\u001b[39;00m\n\u001b[1;32m      2\u001b[0m \u001b[38;5;66;03m# Secario 3: some predictive cells \u001b[39;00m\n\u001b[1;32m      3\u001b[0m \u001b[38;5;66;03m#===========================================================================\u001b[39;00m\n\u001b[0;32m----> 4\u001b[0m par,token \u001b[38;5;241m=\u001b[39m toy(\u001b[38;5;124m'\u001b[39m\u001b[38;5;124msarah\u001b[39m\u001b[38;5;124m'\u001b[39m);  epar,cpar,ppar,dyn \u001b[38;5;241m=\u001b[39m par\n\u001b[1;32m      5\u001b[0m epar\u001b[38;5;241m.\u001b[39mp[\u001b[38;5;241m2\u001b[39m] \u001b[38;5;241m=\u001b[39m epar\u001b[38;5;241m.\u001b[39mp[\u001b[38;5;241m1\u001b[39m] \u001b[38;5;241m=\u001b[39m epar\u001b[38;5;241m.\u001b[39mp[\u001b[38;5;241m0\u001b[39m]             \u001b[38;5;66;03m# overwrite => all the same\u001b[39;00m\n\u001b[1;32m      6\u001b[0m ppar\u001b[38;5;241m.\u001b[39mP[\u001b[38;5;241m2\u001b[39m][\u001b[38;5;241m0\u001b[39m] \u001b[38;5;241m=\u001b[39m ppar\u001b[38;5;241m.\u001b[39mP[\u001b[38;5;241m1\u001b[39m][\u001b[38;5;241m0\u001b[39m] \u001b[38;5;241m=\u001b[39m ppar\u001b[38;5;241m.\u001b[39mP[\u001b[38;5;241m0\u001b[39m][\u001b[38;5;241m0\u001b[39m]    \u001b[38;5;66;03m# overwrite => all the same\u001b[39;00m\n",
      "\u001b[0;31mNameError\u001b[0m: name 'toy' is not defined"
     ]
    }
   ],
   "source": [
    "#===========================================================================\n",
    "# Secario 3: some predictive cells \n",
    "#===========================================================================\n",
    "par,token = toy('sarah');  epar,cpar,ppar,dyn = par\n",
    "epar.p[2] = epar.p[1] = epar.p[0]             # overwrite => all the same\n",
    "ppar.P[2][0] = ppar.P[1][0] = ppar.P[0][0]    # overwrite => all the same\n",
    "\n",
    "y,sizes = cat(c:=[0,0,0],token['Sarah'])\n",
    "cells = Cells(3,par,sizes,verbose=0)\n",
    "cells[0].x.set(1)\n",
    "cells[2].x.set(1)\n",
    "\n",
    "mon = Monitor(3,8,'Scenario 3: Some Predictive Cells')\n",
    "y = cells.iteration(y)\n",
    "check(cells,'|UX,UXLY,UQXDY,UQXDY,XDY,XD,XD-|U,UD,UQD,UQD,D,D,D-|UX,UXLDY,UQXDY,UQXDY,XDY,XD,XD-|')"
   ]
  },
  {
   "cell_type": "code",
   "execution_count": 3,
   "id": "87a37139-be02-46e0-8237-1bac56edae80",
   "metadata": {},
   "outputs": [
    {
     "ename": "NameError",
     "evalue": "name 'toy' is not defined",
     "output_type": "error",
     "traceback": [
      "\u001b[0;31m---------------------------------------------------------------------------\u001b[0m",
      "\u001b[0;31mNameError\u001b[0m                                 Traceback (most recent call last)",
      "Cell \u001b[0;32mIn[3], line 4\u001b[0m\n\u001b[1;32m      1\u001b[0m \u001b[38;5;66;03m#===========================================================================\u001b[39;00m\n\u001b[1;32m      2\u001b[0m \u001b[38;5;66;03m# Secario 4: Sequence Prediction -> 'Sarah'\u001b[39;00m\n\u001b[1;32m      3\u001b[0m \u001b[38;5;66;03m#===========================================================================\u001b[39;00m\n\u001b[0;32m----> 4\u001b[0m par,token \u001b[38;5;241m=\u001b[39m toy(\u001b[38;5;124m'\u001b[39m\u001b[38;5;124msarah\u001b[39m\u001b[38;5;124m'\u001b[39m);  epar,cpar,ppar,dyn \u001b[38;5;241m=\u001b[39m par\n\u001b[1;32m      5\u001b[0m \u001b[38;5;66;03m#par[0].p[2] = par[0].p[1] = par[0].p[0] # overwrite => all the same\u001b[39;00m\n\u001b[1;32m      6\u001b[0m \u001b[38;5;66;03m#ppar.delta = (0,0)                     # disable learning\u001b[39;00m\n\u001b[1;32m      7\u001b[0m cpar\u001b[38;5;241m.\u001b[39mp[\u001b[38;5;241m0\u001b[39m] \u001b[38;5;241m=\u001b[39m cpar\u001b[38;5;241m.\u001b[39mp[\u001b[38;5;241m1\u001b[39m] \u001b[38;5;241m=\u001b[39m cpar\u001b[38;5;241m.\u001b[39mp[\u001b[38;5;241m2\u001b[39m] \u001b[38;5;241m=\u001b[39m [\u001b[38;5;241m0\u001b[39m,\u001b[38;5;241m0\u001b[39m,\u001b[38;5;241m0\u001b[39m]   \u001b[38;5;66;03m# no collaboration \u001b[39;00m\n",
      "\u001b[0;31mNameError\u001b[0m: name 'toy' is not defined"
     ]
    }
   ],
   "source": [
    "#===========================================================================\n",
    "# Secario 4: Sequence Prediction -> 'Sarah'\n",
    "#===========================================================================\n",
    "par,token = toy('sarah');  epar,cpar,ppar,dyn = par\n",
    "#par[0].p[2] = par[0].p[1] = par[0].p[0] # overwrite => all the same\n",
    "#ppar.delta = (0,0)                     # disable learning\n",
    "cpar.p[0] = cpar.p[1] = cpar.p[2] = [0,0,0]   # no collaboration \n",
    "\n",
    "mon = Monitor(3,8,\"Presentation of first item: 'Sarah'\")\n",
    "y,sizes = cat(c:=[0,0,0],token['Sarah'])\n",
    "cells = Cells(3,par,sizes,verbose=0)\n",
    "y = cells.iteration(y,'Sarah')\n",
    "check(cells,'|U,U,UQB,UQBY,Y---|---XS,X,X,X,X|--------|')\n",
    "\n",
    "mon = Monitor(3,8,\"Presentation of second item: 'loves'\")\n",
    "y,sizes = cat(c:=y[:3],token['loves'])\n",
    "y = cells.iteration(y,'loves')\n",
    "check(cells,'|--------|UX,UXLY,UQXBY,UQXBY,Y---|-XS,X,X,X,X,X,X|')\n",
    "\n",
    "mon = Monitor(3,8,\"Presentation of third item: 'music'\")\n",
    "y,sizes = cat(c:=y[:3],token['music'])\n",
    "y = cells.iteration(y,'music')\n",
    "check(cells,'|--------|--------|UX,UXLY,UQXBY,UQXBY,Y---|')"
   ]
  },
  {
   "cell_type": "code",
   "execution_count": null,
   "id": "3013bf7e-01e7-4be8-8481-21c840bcff58",
   "metadata": {},
   "outputs": [],
   "source": []
  },
  {
   "cell_type": "code",
   "execution_count": null,
   "id": "78378176-c143-412a-91cb-d4a95c8893e5",
   "metadata": {},
   "outputs": [],
   "source": []
  },
  {
   "cell_type": "code",
   "execution_count": null,
   "id": "5e32fe25-f84e-47fe-b273-dd5933f31dd6",
   "metadata": {},
   "outputs": [],
   "source": []
  },
  {
   "cell_type": "code",
   "execution_count": null,
   "id": "7afc3147-b0da-400e-93c7-77bf1675f9f6",
   "metadata": {},
   "outputs": [],
   "source": []
  },
  {
   "cell_type": "code",
   "execution_count": null,
   "id": "e03faa70-743f-4825-9381-10b6d591f28a",
   "metadata": {},
   "outputs": [],
   "source": []
  },
  {
   "cell_type": "code",
   "execution_count": null,
   "id": "2a978c5f-3756-4d05-85f9-201258d92e33",
   "metadata": {},
   "outputs": [],
   "source": []
  }
 ],
 "metadata": {
  "kernelspec": {
   "display_name": "Python 3 (ipykernel)",
   "language": "python",
   "name": "python3"
  },
  "language_info": {
   "codemirror_mode": {
    "name": "ipython",
    "version": 3
   },
   "file_extension": ".py",
   "mimetype": "text/x-python",
   "name": "python",
   "nbconvert_exporter": "python",
   "pygments_lexer": "ipython3",
   "version": "3.11.5"
  }
 },
 "nbformat": 4,
 "nbformat_minor": 5
}
